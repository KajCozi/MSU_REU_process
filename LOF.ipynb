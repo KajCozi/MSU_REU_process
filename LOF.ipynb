{
 "cells": [
  {
   "cell_type": "markdown",
   "metadata": {},
   "source": [
    "This program runs the Local Outlier Factor (LOF) method over the KDDCUP99 dataset to determine if data instances within the set are normal or anomalous."
   ]
  },
  {
   "cell_type": "code",
   "execution_count": 2,
   "metadata": {},
   "outputs": [],
   "source": [
    "from sklearn.datasets import fetch_kddcup99\n",
    "kddcup99_data = fetch_kddcup99(subset='http')\n",
    "X = kddcup99_data['data']\n",
    "y = kddcup99_data['target']\n",
    "#y[y == b'normal.'] = 1\n",
    "#y[y!= 1] = -1"
   ]
  },
  {
   "cell_type": "code",
   "execution_count": 3,
   "metadata": {},
   "outputs": [
    {
     "data": {
      "text/plain": [
       "array([[-2.3025850929940455, 5.199049364889368, 8.60338923611281],\n",
       "       [-2.3025850929940455, 5.476881874464279, 6.1864143640514095],\n",
       "       [-2.3025850929940455, 5.460010955546024, 7.198258368620619],\n",
       "       ...,\n",
       "       [-2.3025850929940455, 5.313698468586339, 7.090160165637395],\n",
       "       [-2.3025850929940455, 5.6736668507515775, 7.090160165637395],\n",
       "       [-2.3025850929940455, 5.3895282466014205, 7.118097238459137]],\n",
       "      dtype=object)"
      ]
     },
     "execution_count": 3,
     "metadata": {},
     "output_type": "execute_result"
    }
   ],
   "source": [
    "X"
   ]
  },
  {
   "cell_type": "code",
   "execution_count": null,
   "metadata": {},
   "outputs": [],
   "source": []
  },
  {
   "cell_type": "code",
   "execution_count": 2,
   "metadata": {},
   "outputs": [],
   "source": [
    "from sklearn.neighbors import LocalOutlierFactor\n",
    "lof = LocalOutlierFactor(n_neighbors = 3)"
   ]
  },
  {
   "cell_type": "markdown",
   "metadata": {},
   "source": [
    "The code above allows us to select the desired number of neighbors for each data instance by manipulating the n_neighbors parameter."
   ]
  },
  {
   "cell_type": "code",
   "execution_count": 3,
   "metadata": {},
   "outputs": [
    {
     "name": "stdout",
     "output_type": "stream",
     "text": [
      "[ 1  1  1  1  1  1  1  1  1  1  1  1 -1  1  1 -1  1  1 -1  1  1  1  1  1\n",
      "  1  1  1  1 -1  1  1 -1  1  1  1  1  1  1  1  1  1  1  1  1  1  1  1 -1\n",
      "  1  1  1 -1  1  1  1  1  1  1 -1  1  1  1  1  1  1  1  1  1  1  1  1  1\n",
      "  1  1  1  1  1 -1  1 -1  1  1  1  1  1  1  1  1  1  1  1  1  1  1  1 -1\n",
      "  1 -1  1  1]\n"
     ]
    }
   ],
   "source": [
    "anomaly_predictions = lof.fit_predict(X)\n",
    "print(anomaly_predictions[0:100])"
   ]
  },
  {
   "cell_type": "markdown",
   "metadata": {},
   "source": [
    "Here predictions for each data point are returned as either a 1 or -1. Points with a label of 1 are considered to be normal, while points with the label of -1 are anomalous. The large size of the returned data is much too large to display here, so only the first 100 points are shown. Of the 100 points, it can be seen that 12 are labeled as anomalies. "
   ]
  },
  {
   "cell_type": "code",
   "execution_count": 4,
   "metadata": {},
   "outputs": [],
   "source": [
    "lof = LocalOutlierFactor(n_neighbors = 15)"
   ]
  },
  {
   "cell_type": "markdown",
   "metadata": {},
   "source": [
    "By manipulating the n_neighbors parameter, we are able to increase the number of nearest neighbors. We would expect fewer anomalies to be present with a larger number of nearest neighbors. "
   ]
  },
  {
   "cell_type": "code",
   "execution_count": 5,
   "metadata": {},
   "outputs": [
    {
     "name": "stdout",
     "output_type": "stream",
     "text": [
      "[ 1  1  1  1  1  1  1  1 -1  1  1  1  1  1  1  1  1  1  1  1  1  1  1  1\n",
      "  1  1  1  1  1  1  1  1  1  1  1  1  1  1  1  1  1  1  1  1  1  1  1  1\n",
      "  1  1  1  1  1  1  1  1  1  1  1  1  1  1  1  1  1  1  1  1  1  1  1  1\n",
      "  1  1  1  1  1  1  1  1  1  1  1  1  1  1  1  1  1  1  1  1  1  1  1  1\n",
      "  1  1  1  1]\n"
     ]
    }
   ],
   "source": [
    "anomaly_predictions = lof.fit_predict(X)\n",
    "print(anomaly_predictions[0:100])"
   ]
  },
  {
   "cell_type": "markdown",
   "metadata": {},
   "source": [
    "As expected, less anomalies are found within the first 100 data points. Of the 100 points, now only 1 is labeled as an anomaly. From here we can look at the negative of the LOF for each data instance to tell us how anomalous each point is. Points that have a lower local outlier factor are less anomalous than those with a high factor score. "
   ]
  },
  {
   "cell_type": "code",
   "execution_count": 6,
   "metadata": {},
   "outputs": [
    {
     "name": "stdout",
     "output_type": "stream",
     "text": [
      "[-0.99198021 -0.97924315 -1.02248748 -0.99978689 -0.9953473  -0.9953473\n",
      " -1.01464236 -0.95650471 -2.17149096 -1.01110182 -0.98361208 -1.02151687\n",
      " -1.00010223 -1.09080608 -0.97007533 -1.09737055 -0.97094389 -1.0249061\n",
      " -1.22139993 -0.99946346 -0.99068709 -1.15963642 -0.97007533 -1.07676281\n",
      " -1.07541388 -1.03336647 -1.12832352 -1.04208377 -1.05695764 -1.06412748\n",
      " -1.0255507  -1.132639   -1.00201484 -1.01947777 -0.98537706 -1.00398002\n",
      " -0.99676279 -1.07874037 -1.00988398 -0.99429884 -0.99429884 -1.03415569\n",
      " -1.04195639 -1.02956859 -1.01436433 -1.05737536 -1.43355147 -0.95822263\n",
      " -1.04437026 -1.00451598 -1.0830859  -1.01953638 -1.26388732 -1.15040383\n",
      " -1.07583971 -1.01673097 -1.12955755 -1.02662833 -0.97829437 -0.99057346\n",
      " -1.03160055 -1.11378782 -1.00073398 -1.04664331 -1.01179738 -1.00440836\n",
      " -1.05785946 -0.99105508 -1.10101385 -1.00408763 -1.02223517 -1.04760285\n",
      " -0.98083369 -1.0457116  -0.99358395 -0.96072066 -1.00002422 -0.97482854\n",
      " -0.99735028 -0.97993074 -1.08638335 -1.02134508 -1.08101878 -0.98149989\n",
      " -1.01882568 -1.09852784 -1.03895621 -1.04038929 -1.08173918 -0.9527127\n",
      " -1.06438778 -1.17974831 -1.09428305 -1.05716426 -1.27715681 -0.98120009\n",
      " -1.00007829 -1.18589723 -0.97285992 -1.00309975]\n"
     ]
    }
   ],
   "source": [
    "print(lof.negative_outlier_factor_[0:100])"
   ]
  },
  {
   "cell_type": "markdown",
   "metadata": {},
   "source": [
    "The offset_ attribute will tell us the threshold used to label the anomalous points. "
   ]
  },
  {
   "cell_type": "code",
   "execution_count": 7,
   "metadata": {},
   "outputs": [
    {
     "data": {
      "text/plain": [
       "-1.5"
      ]
     },
     "execution_count": 7,
     "metadata": {},
     "output_type": "execute_result"
    }
   ],
   "source": [
    "lof.offset_"
   ]
  },
  {
   "cell_type": "markdown",
   "metadata": {},
   "source": [
    "The output here informs us that a point is considered to be an anomaly if its local outlier factor is greater than 1.5. Using the same number of nearest neighbors, we are able to obtain a different threshold by manipulating the contamination parameter. "
   ]
  },
  {
   "cell_type": "code",
   "execution_count": 8,
   "metadata": {},
   "outputs": [
    {
     "name": "stdout",
     "output_type": "stream",
     "text": [
      "[ 1  1  1  1  1  1  1  1 -1  1]\n"
     ]
    }
   ],
   "source": [
    "lof = LocalOutlierFactor(n_neighbors = 15, contamination=0.2)\n",
    "anomaly_predictions = lof.fit_predict(X)\n",
    "print(anomaly_predictions[0:10])"
   ]
  },
  {
   "cell_type": "markdown",
   "metadata": {},
   "source": [
    "Although the n_neighbors parameter remained the same, the number of anomalies increased. This is because, for this particular example, we found 20% of the data with the largest local outlier factor values. "
   ]
  },
  {
   "cell_type": "code",
   "execution_count": 9,
   "metadata": {},
   "outputs": [
    {
     "data": {
      "text/plain": [
       "-1.0906645632342706"
      ]
     },
     "execution_count": 9,
     "metadata": {},
     "output_type": "execute_result"
    }
   ],
   "source": [
    "lof.offset_"
   ]
  },
  {
   "cell_type": "markdown",
   "metadata": {},
   "source": [
    "The offset_ attribute on these anomaly predictions is lower than the result returned before setting the contamination. Intuitively this makes sense because a lower threshold usually indicates more anomalies. Thus, we have obtained our expected results.  "
   ]
  }
 ],
 "metadata": {
  "kernelspec": {
   "display_name": "Python 3",
   "language": "python",
   "name": "python3"
  },
  "language_info": {
   "codemirror_mode": {
    "name": "ipython",
    "version": 3
   },
   "file_extension": ".py",
   "mimetype": "text/x-python",
   "name": "python",
   "nbconvert_exporter": "python",
   "pygments_lexer": "ipython3",
   "version": "3.8.3"
  }
 },
 "nbformat": 4,
 "nbformat_minor": 4
}
