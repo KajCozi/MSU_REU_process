{
 "cells": [
  {
   "cell_type": "code",
   "execution_count": 1,
   "metadata": {},
   "outputs": [
    {
     "data": {
      "text/plain": [
       "array([1, 1, 1, 1, 1, 1, 1, 1, 1, 1, 1, 1, 1, 1, 1, 1, 1, 1, 1, 1, 1, 1,\n",
       "       1, 1, 1, 1, 1, 1, 1, 1, 1, 1, 1, 1, 1, 1, 1, 1, 1, 1, 1, 1, 1, 1,\n",
       "       1, 1, 1, 1, 1, 1, 1, 1, 1, 1, 1, 1, 1, 1, 1, 1, 1, 1, 1, 1, 1, 1,\n",
       "       1, 1, 1, 1, 1, 1, 1, 1, 1, 1, 1, 1, 1, 1, 1, 1, 1, 1, 1, 1, 1, 1,\n",
       "       1, 1, 1, 1, 1, 1, 1, 1, 1, 1, 1, 1], dtype=int64)"
      ]
     },
     "execution_count": 1,
     "metadata": {},
     "output_type": "execute_result"
    }
   ],
   "source": [
    "# Import dataset\n",
    "from sklearn.datasets import fetch_kddcup99\n",
    "kdd99_data = fetch_kddcup99()\n",
    "import numpy as np\n",
    "X_og = kdd99_data['data']\n",
    "y_og = kdd99_data['target']\n",
    "y_og[y_og == b'normal.'] = 1\n",
    "y_og[y_og != 1] = -1\n",
    "y_og = np.int64(y_og)\n",
    "y_og[0:100]"
   ]
  },
  {
   "cell_type": "code",
   "execution_count": 4,
   "metadata": {},
   "outputs": [],
   "source": [
    "# Remove categorical features\n",
    "X_num_sample = np.delete(X_og,[1,2,3],1)"
   ]
  },
  {
   "cell_type": "code",
   "execution_count": 6,
   "metadata": {},
   "outputs": [
    {
     "name": "stdout",
     "output_type": "stream",
     "text": [
      "(59000, 38)\n",
      "(59000,)\n"
     ]
    }
   ],
   "source": [
    "# Take random sample\n",
    "sample_indices = np.random.choice(range(len(y_og)), 59000)\n",
    "X_sample = X_num_sample[sample_indices,:]\n",
    "y=y_og[sample_indices]\n",
    "y = np.int64(y)\n",
    "print(X_sample.shape)\n",
    "print(y.shape)"
   ]
  },
  {
   "cell_type": "code",
   "execution_count": 8,
   "metadata": {},
   "outputs": [
    {
     "name": "stderr",
     "output_type": "stream",
     "text": [
      "c:\\users\\kajia\\appdata\\local\\programs\\python\\python38-32\\lib\\site-packages\\sklearn\\feature_selection\\_univariate_selection.py:114: UserWarning: Features [ 5 11 16 17] are constant.\n",
      "  warnings.warn(\"Features %s are constant.\" % constant_features_idx,\n",
      "c:\\users\\kajia\\appdata\\local\\programs\\python\\python38-32\\lib\\site-packages\\sklearn\\feature_selection\\_univariate_selection.py:116: RuntimeWarning: invalid value encountered in true_divide\n",
      "  f = msb / msw\n"
     ]
    }
   ],
   "source": [
    "# Use feature selection\n",
    "from sklearn.feature_selection import SelectKBest, f_classif\n",
    "fs = SelectKBest(score_func = f_classif, k = 2)\n",
    "X_selected = fs.fit_transform(X_sample,y)"
   ]
  },
  {
   "cell_type": "code",
   "execution_count": 11,
   "metadata": {},
   "outputs": [],
   "source": [
    "from sklearn.neighbors import LocalOutlierFactor\n",
    "from sklearn.metrics import recall_score\n",
    "from sklearn.metrics import precision_score\n",
    "from sklearn.metrics import f1_score\n",
    "\n",
    "\n",
    "recall_scores = []\n",
    "precision_scores = []\n",
    "f1_scores = []\n",
    "\n",
    "\n",
    "# n is the number of features, k is the number of nearest neighbors\n",
    "def calculations(n,k):\n",
    "\n",
    "    from sklearn.feature_selection import SelectKBest, f_classif\n",
    "    fs = SelectKBest(score_func = f_classif, k = n)\n",
    "    X_selected = fs.fit_transform(X_sample,y)\n",
    "\n",
    "    lof = LocalOutlierFactor(n_neighbors = k)\n",
    "    y_pred = lof.fit_predict(X_selected)\n",
    "    \n",
    "  \n",
    "    y_pred = np.array(y_pred)\n",
    "    r = recall_score(y, y_pred, pos_label = -1)\n",
    "    p = precision_score(y, y_pred, pos_label = -1)\n",
    "    f = f1_score(y, y_pred, pos_label = -1)\n",
    "    \n",
    "   \n",
    "    recall_scores.append(r)\n",
    "    precision_scores.append(p)\n",
    "    f1_scores.append(f)\n",
    "    \n",
    "    print('Number of Features:', n, '\\nNumber of Nearest Neighbors:', k)\n",
    "    print('Recall:', r,'\\nPrecision:',p,'\\nF1:',f)"
   ]
  },
  {
   "cell_type": "code",
   "execution_count": 12,
   "metadata": {},
   "outputs": [
    {
     "name": "stderr",
     "output_type": "stream",
     "text": [
      "c:\\users\\kajia\\appdata\\local\\programs\\python\\python38-32\\lib\\site-packages\\sklearn\\feature_selection\\_univariate_selection.py:114: UserWarning: Features [ 5 11 16 17] are constant.\n",
      "  warnings.warn(\"Features %s are constant.\" % constant_features_idx,\n",
      "c:\\users\\kajia\\appdata\\local\\programs\\python\\python38-32\\lib\\site-packages\\sklearn\\feature_selection\\_univariate_selection.py:116: RuntimeWarning: invalid value encountered in true_divide\n",
      "  f = msb / msw\n"
     ]
    },
    {
     "name": "stdout",
     "output_type": "stream",
     "text": [
      "Number of Features: 2 \n",
      "Number of Nearest Neighbors: 40\n",
      "Recall: 0.01041930313000928 \n",
      "Precision: 0.7406296851574213 \n",
      "F1: 0.020549512261070324\n"
     ]
    }
   ],
   "source": [
    "calculations(2,40)"
   ]
  },
  {
   "cell_type": "code",
   "execution_count": null,
   "metadata": {},
   "outputs": [],
   "source": [
    "calculations(3,40)"
   ]
  },
  {
   "cell_type": "code",
   "execution_count": null,
   "metadata": {},
   "outputs": [],
   "source": [
    "calculations(3,50)"
   ]
  }
 ],
 "metadata": {
  "kernelspec": {
   "display_name": "Python 3",
   "language": "python",
   "name": "python3"
  },
  "language_info": {
   "codemirror_mode": {
    "name": "ipython",
    "version": 3
   },
   "file_extension": ".py",
   "mimetype": "text/x-python",
   "name": "python",
   "nbconvert_exporter": "python",
   "pygments_lexer": "ipython3",
   "version": "3.8.3"
  }
 },
 "nbformat": 4,
 "nbformat_minor": 4
}
