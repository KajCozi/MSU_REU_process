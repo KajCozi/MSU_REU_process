{
 "cells": [
  {
   "cell_type": "code",
   "execution_count": 11,
   "metadata": {},
   "outputs": [],
   "source": [
    "from sklearn.datasets import fetch_kddcup99\n",
    "import numpy as np\n",
    "kddcup99_data = fetch_kddcup99()\n",
    "X = kddcup99_data['data']\n",
    "y = kddcup99_data['target']\n",
    "y[y == b'normal.'] = 1\n",
    "y[y!= 1] = -1\n",
    "y = np.int64(y)"
   ]
  },
  {
   "cell_type": "code",
   "execution_count": 12,
   "metadata": {},
   "outputs": [
    {
     "name": "stdout",
     "output_type": "stream",
     "text": [
      "(59000, 41)\n",
      "(59000,)\n"
     ]
    }
   ],
   "source": [
    "sample_indices = np.random.choice(range(len(y)), 59000)\n",
    "X_sample = X[sample_indices,:]\n",
    "y_sample=y[sample_indices]\n",
    "print(X_sample.shape)\n",
    "print(y_sample.shape)"
   ]
  },
  {
   "cell_type": "code",
   "execution_count": 13,
   "metadata": {},
   "outputs": [
    {
     "name": "stdout",
     "output_type": "stream",
     "text": [
      "(59000, 38)\n",
      "(59000,)\n"
     ]
    }
   ],
   "source": [
    "X_num_sample = np.delete(X_sample,[1,2,3],1)\n",
    "print(X_num_sample.shape)\n",
    "print(y_sample.shape)"
   ]
  },
  {
   "cell_type": "code",
   "execution_count": 14,
   "metadata": {},
   "outputs": [
    {
     "name": "stderr",
     "output_type": "stream",
     "text": [
      "c:\\users\\kajia\\appdata\\local\\programs\\python\\python38-32\\lib\\site-packages\\sklearn\\feature_selection\\_univariate_selection.py:114: UserWarning: Features [ 5 11 16 17] are constant.\n",
      "  warnings.warn(\"Features %s are constant.\" % constant_features_idx,\n",
      "c:\\users\\kajia\\appdata\\local\\programs\\python\\python38-32\\lib\\site-packages\\sklearn\\feature_selection\\_univariate_selection.py:116: RuntimeWarning: invalid value encountered in true_divide\n",
      "  f = msb / msw\n"
     ]
    },
    {
     "name": "stdout",
     "output_type": "stream",
     "text": [
      "(59000, 20)\n"
     ]
    }
   ],
   "source": [
    "from sklearn.feature_selection import SelectKBest, f_classif\n",
    "fs = SelectKBest(score_func = f_classif, k = 20)\n",
    "X_selected = fs.fit_transform(X_num_sample,y_sample)\n",
    "print(X_selected.shape)"
   ]
  },
  {
   "cell_type": "code",
   "execution_count": 15,
   "metadata": {},
   "outputs": [
    {
     "name": "stdout",
     "output_type": "stream",
     "text": [
      "[ 1 -1 -1 -1 -1  1 -1 -1  1 -1 -1 -1 -1  1  1  1  1 -1  1 -1  1 -1  1  1\n",
      "  1  1 -1 -1 -1  1  1  1  1  1  1 -1 -1 -1  1  1  1  1  1  1  1  1 -1 -1\n",
      " -1 -1 -1 -1  1  1  1 -1  1 -1 -1 -1  1 -1 -1 -1  1 -1 -1 -1 -1  1 -1  1\n",
      "  1 -1  1  1  1  1  1  1  1 -1  1  1 -1 -1 -1 -1 -1  1 -1  1 -1 -1 -1  1\n",
      "  1  1 -1  1]\n"
     ]
    }
   ],
   "source": [
    "from sklearn.ensemble import IsolationForest\n",
    "isof = IsolationForest(max_samples=100, random_state=42)\n",
    "isof.fit(X_selected)\n",
    "anomaly_predictions = isof.predict(X_selected)\n",
    "anomaly_predictions = np.array(anomaly_predictions)\n",
    "print(anomaly_predictions[0:100])"
   ]
  },
  {
   "cell_type": "code",
   "execution_count": 16,
   "metadata": {},
   "outputs": [
    {
     "name": "stdout",
     "output_type": "stream",
     "text": [
      "r= 0.3390855644376771 \n",
      "p= 0.6329293806497454 \n",
      "f= 0.44159242071634147\n"
     ]
    }
   ],
   "source": [
    "from sklearn.metrics import recall_score\n",
    "from sklearn.metrics import precision_score\n",
    "from sklearn.metrics import f1_score\n",
    "\n",
    "r = recall_score(y_sample, anomaly_predictions, pos_label = -1)\n",
    "p = precision_score(y_sample, anomaly_predictions, pos_label = -1)\n",
    "f = f1_score(y_sample, anomaly_predictions, pos_label = -1)\n",
    "print('r=', r, '\\np=', p, '\\nf=', f)"
   ]
  }
 ],
 "metadata": {
  "kernelspec": {
   "display_name": "Python 3",
   "language": "python",
   "name": "python3"
  },
  "language_info": {
   "codemirror_mode": {
    "name": "ipython",
    "version": 3
   },
   "file_extension": ".py",
   "mimetype": "text/x-python",
   "name": "python",
   "nbconvert_exporter": "python",
   "pygments_lexer": "ipython3",
   "version": "3.8.3"
  }
 },
 "nbformat": 4,
 "nbformat_minor": 4
}
