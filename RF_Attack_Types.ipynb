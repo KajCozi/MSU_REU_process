{
 "cells": [
  {
   "cell_type": "code",
   "execution_count": 1,
   "metadata": {},
   "outputs": [],
   "source": [
    "# Import dataset - 10% of entire dataset, or can also use subset='http'\n",
    "from sklearn.datasets import fetch_kddcup99\n",
    "kdd99_data = fetch_kddcup99(subset = 'http')\n",
    "import numpy as np\n",
    "X_og = kdd99_data['data']\n",
    "y_og = kdd99_data['target']"
   ]
  },
  {
   "cell_type": "code",
   "execution_count": null,
   "metadata": {},
   "outputs": [],
   "source": [
    "# When running 10% of entire dataset - Remove categorical data\n",
    "X_num_sample = np.delete(X_og,[1,2,3],1)\n",
    "print(X_num_sample.shape)\n",
    "print(y_og.shape)"
   ]
  },
  {
   "cell_type": "code",
   "execution_count": null,
   "metadata": {},
   "outputs": [],
   "source": [
    "# Make sure all categorical columns were removed\n",
    "X_num_sample[0:1]"
   ]
  },
  {
   "cell_type": "code",
   "execution_count": null,
   "metadata": {},
   "outputs": [],
   "source": [
    "# When running 10% of entire dataset - Take a sample from the dataset \n",
    "sample_indices = np.random.choice(range(len(y_og)), 59000)\n",
    "X_sample = X_num_sample[sample_indices,:]\n",
    "y = y_og[sample_indices]\n",
    "print(X_sample.shape)\n",
    "print(y.shape)"
   ]
  },
  {
   "cell_type": "code",
   "execution_count": 2,
   "metadata": {},
   "outputs": [
    {
     "name": "stdout",
     "output_type": "stream",
     "text": [
      "(59000, 3)\n",
      "(59000,)\n"
     ]
    }
   ],
   "source": [
    "# http subset - Take a sample from the dataset\n",
    "sample_indices = np.random.choice(range(len(y_og)), 59000)\n",
    "X_sample = X_og[sample_indices,:]\n",
    "y = y_og[sample_indices]\n",
    "print(X_sample.shape)\n",
    "print(y.shape)"
   ]
  },
  {
   "cell_type": "code",
   "execution_count": null,
   "metadata": {},
   "outputs": [],
   "source": [
    "# from sklearn import preprocessing\n",
    "# labelnums = preprocessing.LabelEncoder()\n",
    "# labelnums.fit(y_og)\n",
    "# list(labelnums.classes_)"
   ]
  },
  {
   "cell_type": "code",
   "execution_count": null,
   "metadata": {},
   "outputs": [],
   "source": [
    "# attack_types = labelnums.transform(y)\n",
    "# attack_types = np.int64(attack_types)\n",
    "# attack_types"
   ]
  },
  {
   "cell_type": "code",
   "execution_count": 3,
   "metadata": {},
   "outputs": [],
   "source": [
    "\n",
    "for i in range(X_sample.shape[0]):\n",
    "  \n",
    "    if(y[i]==b'normal.'):\n",
    "        y[i] = 0\n",
    "\n",
    "    if(y[i]==b'neptune.'):\n",
    "        y[i] = 1\n",
    "        \n",
    "    if(y[i]==b'smurf.'):\n",
    "         y[i] = 2\n",
    "        \n",
    "    if(y[i]==b'pod.'):\n",
    "         y[i] = 3\n",
    "    \n",
    "    if(y[i]==b'teardrop.'):\n",
    "         y[i] = 4\n",
    "        \n",
    "    if(y[i]==b'land.'):\n",
    "         y[i] = 5\n",
    "        \n",
    "    if(y[i]==b'back.'):\n",
    "         y[i] = 6\n",
    "\n",
    "    if(y[i]==b'buffer_overflow.'): \n",
    "         y[i] = 7\n",
    "    \n",
    "    if(y[i]==b'loadmodule.'):\n",
    "         y[i] = 8\n",
    "       \n",
    "    if(y[i]==b'perl.'): \n",
    "         y[i] = 9\n",
    "    \n",
    "    if(y[i]==b'rootkit.'): \n",
    "         y[i] = 1\n",
    "    \n",
    "    if(y[i]==b'guess_passwd.'):\n",
    "         y[i] = 10\n",
    "    \n",
    "    if(y[i]==b'ftp_write.'):\n",
    "         y[i] = 11\n",
    "    \n",
    "    if(y[i]==b'imap.'):\n",
    "         y[i] = 12\n",
    "    \n",
    "    if(y[i]==b'phf.'):\n",
    "         y[i] = 13\n",
    "    \n",
    "    if(y[i]==b'multihop.'): \n",
    "         y[i] = 14\n",
    "    \n",
    "    if(y[i]==b'warezmaster.'):\n",
    "         y[i] = 15\n",
    "    \n",
    "    if(y[i]==b'warezclient.'):\n",
    "         y[i] = 16\n",
    "    \n",
    "    if(y[i]==b'spy.'):\n",
    "         y[i] = 17\n",
    "       \n",
    "    if(y[i]==b'portsweep.'):\n",
    "         y[i] = 18\n",
    "    \n",
    "    if(y[i]==b'ipsweep.'):\n",
    "         y[i] = 19\n",
    "        \n",
    "    if(y[i]==b'nmap.'): \n",
    "         y[i] = 20\n",
    "        \n",
    "    if(y[i]==b'satan.'):\n",
    "         y[i] = 21\n",
    "       "
   ]
  },
  {
   "cell_type": "code",
   "execution_count": 4,
   "metadata": {},
   "outputs": [
    {
     "name": "stdout",
     "output_type": "stream",
     "text": [
      "{0, 21, 13, 6}\n"
     ]
    }
   ],
   "source": [
    "y = np.int64(y)\n",
    "y\n",
    "print(set(y))"
   ]
  },
  {
   "cell_type": "code",
   "execution_count": 5,
   "metadata": {},
   "outputs": [],
   "source": [
    "from sklearn.model_selection import train_test_split \n",
    "X_train, X_test, y_train, y_test = train_test_split(X_sample, y, test_size=0.33, random_state=42)"
   ]
  },
  {
   "cell_type": "code",
   "execution_count": 6,
   "metadata": {},
   "outputs": [],
   "source": [
    "from sklearn.ensemble import RandomForestClassifier\n",
    "clf = RandomForestClassifier(max_depth = 20, random_state = 42)\n",
    "clf.fit(X_train,y_train)\n",
    "y_pred = clf.predict(X_test)"
   ]
  },
  {
   "cell_type": "code",
   "execution_count": 7,
   "metadata": {},
   "outputs": [
    {
     "data": {
      "text/plain": [
       "array([0, 0, 0, ..., 6, 6, 0], dtype=int64)"
      ]
     },
     "execution_count": 7,
     "metadata": {},
     "output_type": "execute_result"
    }
   ],
   "source": [
    "y_pred"
   ]
  },
  {
   "cell_type": "code",
   "execution_count": 8,
   "metadata": {},
   "outputs": [],
   "source": [
    "from sklearn.metrics import recall_score\n",
    "from sklearn.metrics import precision_score\n",
    "from sklearn.metrics import f1_score\n",
    "from sklearn.ensemble import RandomForestClassifier\n",
    "\n",
    "recall_scores = []\n",
    "precision_scores = []\n",
    "f1_scores = []\n",
    "\n",
    "def calculations(n):\n",
    " \n",
    "    clf = RandomForestClassifier(max_depth = n, random_state = 42)\n",
    "    clf.fit(X_train,y_train)\n",
    "    y_pred = clf.predict(X_test)\n",
    "    \n",
    "  \n",
    "    y_pred = np.array(y_pred)\n",
    "    r = recall_score(y_test, y_pred, average = None)\n",
    "    p = precision_score(y_test, y_pred, average=None)\n",
    "    f = f1_score(y_test, y_pred, average=None)\n",
    "    \n",
    "   \n",
    "    recall_scores.append(r)\n",
    "    precision_scores.append(p)\n",
    "    f1_scores.append(f)"
   ]
  },
  {
   "cell_type": "code",
   "execution_count": 9,
   "metadata": {},
   "outputs": [
    {
     "name": "stderr",
     "output_type": "stream",
     "text": [
      "c:\\users\\kajia\\appdata\\local\\programs\\python\\python38-32\\lib\\site-packages\\sklearn\\metrics\\_classification.py:1221: UndefinedMetricWarning: Precision is ill-defined and being set to 0.0 in labels with no predicted samples. Use `zero_division` parameter to control this behavior.\n",
      "  _warn_prf(average, modifier, msg_start, len(result))\n",
      "c:\\users\\kajia\\appdata\\local\\programs\\python\\python38-32\\lib\\site-packages\\sklearn\\metrics\\_classification.py:1221: UndefinedMetricWarning: Precision is ill-defined and being set to 0.0 in labels with no predicted samples. Use `zero_division` parameter to control this behavior.\n",
      "  _warn_prf(average, modifier, msg_start, len(result))\n",
      "c:\\users\\kajia\\appdata\\local\\programs\\python\\python38-32\\lib\\site-packages\\sklearn\\metrics\\_classification.py:1221: UndefinedMetricWarning: Precision is ill-defined and being set to 0.0 in labels with no predicted samples. Use `zero_division` parameter to control this behavior.\n",
      "  _warn_prf(average, modifier, msg_start, len(result))\n",
      "c:\\users\\kajia\\appdata\\local\\programs\\python\\python38-32\\lib\\site-packages\\sklearn\\metrics\\_classification.py:1221: UndefinedMetricWarning: Precision is ill-defined and being set to 0.0 in labels with no predicted samples. Use `zero_division` parameter to control this behavior.\n",
      "  _warn_prf(average, modifier, msg_start, len(result))\n"
     ]
    }
   ],
   "source": [
    "ilist = []\n",
    "i = 1\n",
    "while i<20:\n",
    "    calculations(i)\n",
    "    ilist.append(i)\n",
    "    i=i+1"
   ]
  },
  {
   "cell_type": "code",
   "execution_count": 10,
   "metadata": {
    "scrolled": true
   },
   "outputs": [
    {
     "name": "stdout",
     "output_type": "stream",
     "text": [
      "Recall Scores: [array([1., 0., 0., 0.]), array([1., 1., 0., 0.]), array([1., 1., 0., 0.]), array([1., 1., 0., 0.]), array([1., 1., 1., 1.]), array([1., 1., 1., 1.]), array([1., 1., 1., 1.]), array([1., 1., 1., 1.]), array([1., 1., 1., 1.]), array([1., 1., 1., 1.]), array([1., 1., 1., 1.]), array([1., 1., 1., 1.]), array([1., 1., 1., 1.]), array([1., 1., 1., 1.]), array([1., 1., 1., 1.]), array([1., 1., 1., 1.]), array([1., 1., 1., 1.]), array([1., 1., 1., 1.]), array([1., 1., 1., 1.])]\n",
      "\n",
      "\n",
      "Precision Scores: [array([0.96235234, 0.        , 0.        , 0.        ]), array([0.99989327, 1.        , 0.        , 0.        ]), array([0.99989327, 1.        , 0.        , 0.        ]), array([0.99989327, 1.        , 0.        , 0.        ]), array([1., 1., 1., 1.]), array([1., 1., 1., 1.]), array([1., 1., 1., 1.]), array([1., 1., 1., 1.]), array([1., 1., 1., 1.]), array([1., 1., 1., 1.]), array([1., 1., 1., 1.]), array([1., 1., 1., 1.]), array([1., 1., 1., 1.]), array([1., 1., 1., 1.]), array([1., 1., 1., 1.]), array([1., 1., 1., 1.]), array([1., 1., 1., 1.]), array([1., 1., 1., 1.]), array([1., 1., 1., 1.])]\n",
      "\n",
      "\n",
      "F1 Scores: [array([0.98081503, 0.        , 0.        , 0.        ]), array([0.99994663, 1.        , 0.        , 0.        ]), array([0.99994663, 1.        , 0.        , 0.        ]), array([0.99994663, 1.        , 0.        , 0.        ]), array([1., 1., 1., 1.]), array([1., 1., 1., 1.]), array([1., 1., 1., 1.]), array([1., 1., 1., 1.]), array([1., 1., 1., 1.]), array([1., 1., 1., 1.]), array([1., 1., 1., 1.]), array([1., 1., 1., 1.]), array([1., 1., 1., 1.]), array([1., 1., 1., 1.]), array([1., 1., 1., 1.]), array([1., 1., 1., 1.]), array([1., 1., 1., 1.]), array([1., 1., 1., 1.]), array([1., 1., 1., 1.])]\n",
      "\n",
      "\n",
      "Max Depth Values: [1, 2, 3, 4, 5, 6, 7, 8, 9, 10, 11, 12, 13, 14, 15, 16, 17, 18, 19]\n"
     ]
    }
   ],
   "source": [
    "print('Recall Scores:', recall_scores)\n",
    "print('\\n\\nPrecision Scores:', precision_scores)\n",
    "print('\\n\\nF1 Scores:', f1_scores)\n",
    "print('\\n\\nMax Depth Values:', ilist)"
   ]
  },
  {
   "cell_type": "code",
   "execution_count": 11,
   "metadata": {},
   "outputs": [],
   "source": [
    "import matplotlib.pyplot as plt"
   ]
  },
  {
   "cell_type": "code",
   "execution_count": 12,
   "metadata": {},
   "outputs": [
    {
     "data": {
      "image/png": "[encoded data removed]",
      "text/plain": [
       "<Figure size 432x288 with 1 Axes>"
      ]
     },
     "metadata": {
      "needs_background": "light"
     },
     "output_type": "display_data"
    }
   ],
   "source": [
    "plt.plot(ilist, recall_scores)\n",
    "plt.xlabel('Tree Depth')\n",
    "plt.ylabel('Recall Score')\n",
    "plt.title('RF Attack Types Recall Plot')\n",
    "plt.show()"
   ]
  },
  {
   "cell_type": "code",
   "execution_count": 13,
   "metadata": {},
   "outputs": [
    {
     "data": {
      "image/png": "[encoded data removed]",
      "text/plain": [
       "<Figure size 432x288 with 1 Axes>"
      ]
     },
     "metadata": {
      "needs_background": "light"
     },
     "output_type": "display_data"
    }
   ],
   "source": [
    "plt.plot(ilist, precision_scores)\n",
    "plt.xlabel('Tree Depth')\n",
    "plt.ylabel('Precision Score')\n",
    "plt.title('RF Attack Types Precision Plot')\n",
    "plt.show()"
   ]
  },
  {
   "cell_type": "code",
   "execution_count": 14,
   "metadata": {},
   "outputs": [
    {
     "data": {
      "image/png": "[encoded data removed]",
      "text/plain": [
       "<Figure size 432x288 with 1 Axes>"
      ]
     },
     "metadata": {
      "needs_background": "light"
     },
     "output_type": "display_data"
    }
   ],
   "source": [
    "plt.plot(ilist, f1_scores)\n",
    "plt.xlabel('Tree Depth')\n",
    "plt.ylabel('F1 Score')\n",
    "plt.title('RF Attack Types F1 Score Plot')\n",
    "plt.show()"
   ]
  }
 ],
 "metadata": {
  "kernelspec": {
   "display_name": "Python 3",
   "language": "python",
   "name": "python3"
  },
  "language_info": {
   "codemirror_mode": {
    "name": "ipython",
    "version": 3
   },
   "file_extension": ".py",
   "mimetype": "text/x-python",
   "name": "python",
   "nbconvert_exporter": "python",
   "pygments_lexer": "ipython3",
   "version": "3.8.3"
  }
 },
 "nbformat": 4,
 "nbformat_minor": 4
}
