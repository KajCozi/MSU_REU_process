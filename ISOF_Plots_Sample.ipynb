{
 "cells": [
  {
   "cell_type": "markdown",
   "metadata": {},
   "source": [
    "# Isolation Forest Metrics Using Sample"
   ]
  },
  {
   "cell_type": "markdown",
   "metadata": {},
   "source": [
    "This program uses the precision, recall, fscore, and false alarm rate evaluation metrics for the Isolation Forest algorithm using a sample. The following plots are produced below:\n",
    "\n",
    "- Precision\n",
    "- Recall\n",
    "- Binary F1 Score\n",
    "- Weighted F1 Score\n",
    "- False Alarm Rate\n",
    "- Grouped: Precision, Recall, Binary F1 Score\n",
    "- Grouped: Precision, Recall Weighted F1 Score\n",
    "\n",
    "(The x-axis represents the number of max samples and the y-axis represents the scores for the metrics)"
   ]
  },
  {
   "cell_type": "code",
   "execution_count": 1,
   "metadata": {},
   "outputs": [],
   "source": [
    "import matplotlib.pyplot as plt\n",
    "from sklearn.datasets import fetch_kddcup99\n",
    "import numpy as np\n",
    "\n",
    "# Load in 10% of entire KDDcup99 dataset\n",
    "kdd99_data = fetch_kddcup99()\n",
    "X = kdd99_data['data']\n",
    "y = kdd99_data['target']"
   ]
  },
  {
   "cell_type": "code",
   "execution_count": 2,
   "metadata": {},
   "outputs": [],
   "source": [
    "# Remove categorical data from X\n",
    "X_no_cat = np.delete(X,[1,2,3],1)"
   ]
  },
  {
   "cell_type": "code",
   "execution_count": 3,
   "metadata": {},
   "outputs": [
    {
     "name": "stdout",
     "output_type": "stream",
     "text": [
      "(59000, 38)\n",
      "(59000,)\n"
     ]
    }
   ],
   "source": [
    "# Take random sample\n",
    "sample_indices = np.random.choice(range(len(y)), 59000)\n",
    "X_sample = X_no_cat[sample_indices,:]\n",
    "y_sample=y[sample_indices]\n",
    "\n",
    "print(X_sample.shape)\n",
    "print(y_sample.shape)"
   ]
  },
  {
   "cell_type": "code",
   "execution_count": 4,
   "metadata": {},
   "outputs": [
    {
     "name": "stdout",
     "output_type": "stream",
     "text": [
      "{1, -1}\n"
     ]
    }
   ],
   "source": [
    "y_sample[y_sample == b'normal.'] = 1\n",
    "y_sample[y_sample != 1] = -1\n",
    "y_sample = np.int64(y_sample)\n",
    "print(set(y_sample))"
   ]
  },
  {
   "cell_type": "code",
   "execution_count": 5,
   "metadata": {},
   "outputs": [],
   "source": [
    "from sklearn.ensemble import IsolationForest\n",
    "from sklearn.metrics import precision_score\n",
    "from sklearn.metrics import recall_score\n",
    "from sklearn.metrics import f1_score\n",
    "from sklearn.metrics import confusion_matrix\n",
    "\n",
    "recall_scores = []\n",
    "precision_scores = []\n",
    "f1_scores = []\n",
    "weighted_f1_scores = []\n",
    "false_alarms = []\n",
    "\n",
    "def calculations(n):\n",
    "    \n",
    "    isof = IsolationForest(max_samples=n, random_state=42)\n",
    "    y_pred = isof.fit_predict(X_sample)\n",
    "    y_pred = np.array(y_pred)\n",
    "    \n",
    "    p = precision_score(y_sample, y_pred, pos_label = -1)\n",
    "    r = recall_score(y_sample, y_pred, pos_label = -1)\n",
    "    f = f1_score(y_sample, y_pred, pos_label = -1)\n",
    "    wf = f1_score(y_sample, y_pred, average = 'weighted')\n",
    "    \n",
    "    tn, fp, fn, tp = confusion_matrix(y_sample,y_pred).ravel()\n",
    "    false_alarm = fp/(fp+tn) \n",
    "    \n",
    "    recall_scores.append(r)\n",
    "    precision_scores.append(p)\n",
    "    f1_scores.append(f)\n",
    "    weighted_f1_scores.append(wf)\n",
    "    false_alarms.append(false_alarm)"
   ]
  },
  {
   "cell_type": "code",
   "execution_count": null,
   "metadata": {},
   "outputs": [
    {
     "name": "stderr",
     "output_type": "stream",
     "text": [
      "c:\\users\\kajia\\appdata\\local\\programs\\python\\python38-32\\lib\\site-packages\\sklearn\\ensemble\\_iforest.py:473: RuntimeWarning: invalid value encountered in true_divide\n",
      "  -depths\n",
      "c:\\users\\kajia\\appdata\\local\\programs\\python\\python38-32\\lib\\site-packages\\sklearn\\ensemble\\_iforest.py:336: RuntimeWarning: invalid value encountered in less\n",
      "  is_inlier[self.decision_function(X) < 0] = -1\n",
      "c:\\users\\kajia\\appdata\\local\\programs\\python\\python38-32\\lib\\site-packages\\sklearn\\metrics\\_classification.py:1221: UndefinedMetricWarning: Precision is ill-defined and being set to 0.0 due to no predicted samples. Use `zero_division` parameter to control this behavior.\n",
      "  _warn_prf(average, modifier, msg_start, len(result))\n",
      "c:\\users\\kajia\\appdata\\local\\programs\\python\\python38-32\\lib\\site-packages\\sklearn\\metrics\\_classification.py:1221: UndefinedMetricWarning: Precision is ill-defined and being set to 0.0 due to no predicted samples. Use `zero_division` parameter to control this behavior.\n",
      "  _warn_prf(average, modifier, msg_start, len(result))\n",
      "c:\\users\\kajia\\appdata\\local\\programs\\python\\python38-32\\lib\\site-packages\\sklearn\\metrics\\_classification.py:1221: UndefinedMetricWarning: Precision is ill-defined and being set to 0.0 due to no predicted samples. Use `zero_division` parameter to control this behavior.\n",
      "  _warn_prf(average, modifier, msg_start, len(result))\n"
     ]
    }
   ],
   "source": [
    "ilist = []\n",
    "i = 1\n",
    "while i<5000:\n",
    "    calculations(i)\n",
    "    ilist.append(i)\n",
    "    i=i+1"
   ]
  },
  {
   "cell_type": "code",
   "execution_count": null,
   "metadata": {},
   "outputs": [],
   "source": [
    "print('Number of Max Samples: ', ilist)"
   ]
  },
  {
   "cell_type": "code",
   "execution_count": null,
   "metadata": {},
   "outputs": [],
   "source": [
    "print(X.shape)"
   ]
  },
  {
   "cell_type": "code",
   "execution_count": null,
   "metadata": {},
   "outputs": [],
   "source": [
    "# Precision\n",
    "plt.plot(ilist, precision_scores)\n",
    "plt.xlabel('Number of Max Samples')\n",
    "plt.ylabel('Precision Score')\n",
    "plt.title('Isolation Forest Precision Plot - Sample (59000, 38)')\n",
    "\n",
    "plt.ylim((-.1, 1.1))\n",
    "\n",
    "plt.show()"
   ]
  },
  {
   "cell_type": "code",
   "execution_count": null,
   "metadata": {},
   "outputs": [],
   "source": [
    "# Recall\n",
    "plt.plot(ilist, recall_scores)\n",
    "plt.xlabel('Number of Max Samples')\n",
    "plt.ylabel('Recall Score')\n",
    "plt.title('Isolation Forest Recall Plot - Sample (59000, 38)')\n",
    "\n",
    "plt.ylim((-.1, 1.1))\n",
    "\n",
    "plt.show()"
   ]
  },
  {
   "cell_type": "code",
   "execution_count": null,
   "metadata": {},
   "outputs": [],
   "source": [
    "# Binary F1 Score\n",
    "plt.plot(ilist, f1_scores)\n",
    "plt.xlabel('Number of Max Samples')\n",
    "plt.ylabel('F1 Score')\n",
    "plt.title('Isolation Forest F1 Plot - Sample (59000, 38)')\n",
    "\n",
    "plt.ylim((-.1, 1.1))\n",
    "\n",
    "plt.show()"
   ]
  },
  {
   "cell_type": "code",
   "execution_count": null,
   "metadata": {},
   "outputs": [],
   "source": [
    "# # Weighted F1 Score\n",
    "# plt.plot(ilist, weighted_f1_scores)\n",
    "# plt.xlabel('Number of Max Samples')\n",
    "# plt.ylabel('Weighted F1 Score')\n",
    "# plt.title('Isolation Forest Weighted F1 Plot - Sample (59000, 38)')\n",
    "\n",
    "# plt.ylim((-.1, 1.1))\n",
    "\n",
    "# plt.show()"
   ]
  },
  {
   "cell_type": "code",
   "execution_count": null,
   "metadata": {},
   "outputs": [],
   "source": [
    "# False Alarm\n",
    "plt.plot(ilist, false_alarms)\n",
    "plt.xlabel('Number of Max Samples')\n",
    "plt.ylabel('False Alarm Rate')\n",
    "plt.title('Isolation Forest False Alarm Rate Plot - Sample (59000, 38)')\n",
    "\n",
    "plt.ylim((-.1, 1.1))\n",
    "\n",
    "plt.show()"
   ]
  },
  {
   "cell_type": "code",
   "execution_count": null,
   "metadata": {},
   "outputs": [],
   "source": [
    "# Grouped - Precision, Recall, Binary F1\n",
    "plt.plot(ilist, precision_scores, label='Precison')\n",
    "plt.plot(ilist, recall_scores, label='Recall')\n",
    "plt.plot(ilist, f1_scores, label = 'F1 Score')\n",
    "    \n",
    "plt.xlabel('Number of Max Samples')\n",
    "plt.ylabel('Metric Values')\n",
    "plt.title('Isolation Forest - Sample (59000, 38)')\n",
    "    \n",
    "leg = plt.legend();\n",
    "\n",
    "plt.ylim((-.1, 1.1))\n",
    "\n",
    "plt.show()"
   ]
  },
  {
   "cell_type": "code",
   "execution_count": null,
   "metadata": {},
   "outputs": [],
   "source": [
    "# Grouped - Precision, Recall, Binary F1, False Alarm\n",
    "plt.plot(ilist, precision_scores, label='Precison')\n",
    "plt.plot(ilist, recall_scores, label='Recall')\n",
    "plt.plot(ilist, f1_scores, label = 'F1 Score')\n",
    "plt.plot(ilist, false_alarms, label = 'False Alarm Rate')\n",
    "    \n",
    "plt.xlabel('Number of Max Samples')\n",
    "plt.ylabel('Metric Values')\n",
    "plt.title('Isolation Forest - Sample (59000, 38)')\n",
    "    \n",
    "leg = plt.legend();\n",
    "\n",
    "plt.ylim((-.1, 1.1))\n",
    "\n",
    "plt.show()"
   ]
  },
  {
   "cell_type": "code",
   "execution_count": null,
   "metadata": {},
   "outputs": [],
   "source": [
    "# Grouped - Precision, Recall, Weighted F1\n",
    "plt.plot(ilist, precision_scores, label='Precison')\n",
    "plt.plot(ilist, recall_scores, label='Recall')\n",
    "plt.plot(ilist, f1_scores,label='Weighted F1')\n",
    "    \n",
    "plt.xlabel('Number of Max Samples')\n",
    "plt.ylabel('Metric Values')\n",
    "plt.title('Isolation Forest - Sample (59000, 38)')\n",
    "    \n",
    "leg = plt.legend();\n",
    "\n",
    "plt.ylim((-.1, 1.1))\n",
    "\n",
    "plt.show()"
   ]
  },
  {
   "cell_type": "code",
   "execution_count": null,
   "metadata": {},
   "outputs": [],
   "source": [
    "# Grouped - Precision, Recall, Weighted F1, False Alarm Rate\n",
    "plt.plot(ilist, precision_scores, label='Precison')\n",
    "plt.plot(ilist, recall_scores, label='Recall')\n",
    "plt.plot(ilist, f1_scores,label='Weighted F1')\n",
    "plt.plot(ilist, false_alarms, label = 'False Alarm Rate')\n",
    "    \n",
    "plt.xlabel('Number of Max Samples')\n",
    "plt.ylabel('Metric Values')\n",
    "plt.title('Isolation Forest - Sample (59000, 38)')\n",
    "    \n",
    "leg = plt.legend();\n",
    "\n",
    "plt.ylim((-.1, 1.1))\n",
    "\n",
    "plt.show()"
   ]
  }
 ],
 "metadata": {
  "kernelspec": {
   "display_name": "Python 3",
   "language": "python",
   "name": "python3"
  },
  "language_info": {
   "codemirror_mode": {
    "name": "ipython",
    "version": 3
   },
   "file_extension": ".py",
   "mimetype": "text/x-python",
   "name": "python",
   "nbconvert_exporter": "python",
   "pygments_lexer": "ipython3",
   "version": "3.8.3"
  }
 },
 "nbformat": 4,
 "nbformat_minor": 4
}
