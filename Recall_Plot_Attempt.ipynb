{
 "cells": [
  {
   "cell_type": "code",
   "execution_count": 1,
   "metadata": {},
   "outputs": [],
   "source": [
    "from sklearn.datasets import fetch_kddcup99\n",
    "kdd99_data = fetch_kddcup99(subset='http')\n",
    "import numpy as np\n",
    "X = kdd99_data['data']\n",
    "y = kdd99_data['target']\n",
    "y[y == b'normal.'] = 1\n",
    "y[y != 1] = -1\n",
    "y = np.int64(y)"
   ]
  },
  {
   "cell_type": "code",
   "execution_count": 2,
   "metadata": {},
   "outputs": [],
   "source": [
    "from sklearn.neighbors import LocalOutlierFactor\n",
    "from sklearn.metrics import recall_score\n",
    "\n",
    "recall_scores = []\n",
    "\n",
    "def calculations(n):\n",
    "    print('K value: ', n)\n",
    "    lof = LocalOutlierFactor(n_neighbors = n)\n",
    "    anomaly_predictions = lof.fit_predict(X)\n",
    "    \n",
    "  \n",
    "    anomaly_predictions = np.array(anomaly_predictions)\n",
    "    print(recall_score(y, anomaly_predictions, pos_label = -1))\n",
    "    \n",
    "    recall_scores.append(recall_score)"
   ]
  },
  {
   "cell_type": "code",
   "execution_count": 3,
   "metadata": {},
   "outputs": [
    {
     "name": "stdout",
     "output_type": "stream",
     "text": [
      "-----------------------------------------------------------------\n",
      "K value:  1\n",
      "0.010864644635581712\n",
      "-----------------------------------------------------------------\n",
      "K value:  2\n",
      "0.015844273426889995\n",
      "-----------------------------------------------------------------\n",
      "K value:  3\n",
      "0.013580805794477138\n",
      "-----------------------------------------------------------------\n",
      "K value:  4\n",
      "0.012675418741511997\n"
     ]
    }
   ],
   "source": [
    "ilist = []\n",
    "i = 1\n",
    "while i<5:\n",
    "    print('-----------------------------------------------------------------')\n",
    "    calculations(i)\n",
    "    ilist.append(i)\n",
    "    i=i+1"
   ]
  },
  {
   "cell_type": "markdown",
   "metadata": {},
   "source": [
    "Here, I am able to see the n_nearest neighbors value along with the recall score associated with that value. The ilist array has all of the values of K, and the recall_scores list should ideally contain the values for the recall score. However, here is what is stored instead:"
   ]
  },
  {
   "cell_type": "code",
   "execution_count": 5,
   "metadata": {},
   "outputs": [
    {
     "name": "stdout",
     "output_type": "stream",
     "text": [
      "List of K:  [1, 2, 3, 4]\n",
      "List of Recall Scores:  [<function recall_score at 0x1EA13970>, <function recall_score at 0x1EA13970>, <function recall_score at 0x1EA13970>, <function recall_score at 0x1EA13970>]\n"
     ]
    }
   ],
   "source": [
    "print('List of K: ', ilist)\n",
    "print('List of Recall Scores: ', recall_scores)"
   ]
  },
  {
   "cell_type": "markdown",
   "metadata": {},
   "source": [
    "And thus I get an error if I try to plot"
   ]
  },
  {
   "cell_type": "code",
   "execution_count": null,
   "metadata": {},
   "outputs": [],
   "source": [
    "import matplotlib.pyplot as plt\n",
    "plt.plot(ilist, recall_scores)\n",
    "plt.xlabel('Value of K')\n",
    "plt.ylabel('Recall Score')\n",
    "plt.title('Recall Plot')\n",
    "plt.show()"
   ]
  },
  {
   "cell_type": "markdown",
   "metadata": {},
   "source": [
    "However, if I manually supply the recall_scores list, the plot works fine. "
   ]
  },
  {
   "cell_type": "code",
   "execution_count": 6,
   "metadata": {},
   "outputs": [],
   "source": [
    "recall_scores = [0.0108, 0.01580, 0.0135, 0.0126]"
   ]
  },
  {
   "cell_type": "code",
   "execution_count": 7,
   "metadata": {},
   "outputs": [
    {
     "data": {
      "image/png": "[encoded data removed]",
      "text/plain": [
       "<Figure size 432x288 with 1 Axes>"
      ]
     },
     "metadata": {
      "needs_background": "light"
     },
     "output_type": "display_data"
    }
   ],
   "source": [
    "import matplotlib.pyplot as plt\n",
    "plt.plot(ilist, recall_scores)\n",
    "plt.xlabel('Value of K')\n",
    "plt.ylabel('Recall Score')\n",
    "plt.title('Recall Plot')\n",
    "plt.show()"
   ]
  }
 ],
 "metadata": {
  "kernelspec": {
   "display_name": "Python 3",
   "language": "python",
   "name": "python3"
  },
  "language_info": {
   "codemirror_mode": {
    "name": "ipython",
    "version": 3
   },
   "file_extension": ".py",
   "mimetype": "text/x-python",
   "name": "python",
   "nbconvert_exporter": "python",
   "pygments_lexer": "ipython3",
   "version": "3.8.3"
  }
 },
 "nbformat": 4,
 "nbformat_minor": 4
}
