{
 "cells": [
  {
   "cell_type": "markdown",
   "metadata": {},
   "source": [
    "This program runs the Isolation Forest method over the http subset of the KDDCUP99 dataset to determine if data instances within the set are normal or anomalous. "
   ]
  },
  {
   "cell_type": "code",
   "execution_count": null,
   "metadata": {},
   "outputs": [],
   "source": [
    "from sklearn.metrics import average_precision_score\n",
    "from sklearn.ensemble import IsolationForest\n",
    "from sklearn.datasets import fetch_kddcup99\n",
    "import numpy as np"
   ]
  },
  {
   "cell_type": "code",
   "execution_count": null,
   "metadata": {},
   "outputs": [],
   "source": [
    "kddcup99_data = fetch_kddcup99(subset='http')\n",
    "X = kddcup99_data['data']\n",
    "y = kddcup99_data['target']\n",
    "y[y == b'normal.'] = 1\n",
    "y[y!= 1] = -1"
   ]
  },
  {
   "cell_type": "code",
   "execution_count": null,
   "metadata": {},
   "outputs": [],
   "source": [
    "isof = IsolationForest(max_samples=100, random_state=42)\n",
    "isof.fit(X)\n",
    "anomaly_predictions = isof.predict(X)\n",
    "print(anomaly_predictions[0:100])"
   ]
  },
  {
   "cell_type": "code",
   "execution_count": null,
   "metadata": {},
   "outputs": [],
   "source": [
    "def param_sweep(n):\n",
    "    isof = IsolationForest(max_samples=n, random_state=42)\n",
    "    isof.fit(X)\n",
    "    anomaly_predictions = isof.predict(X)\n",
    "\n",
    "    \n",
    "    import pandas as pd\n",
    "    df_confusion = pd.crosstab(y, anomaly_predictions)\n",
    "    TP = df_confusion.iloc[0,0]  # True Positives\n",
    "    FP = df_confusion.iloc[0,1]  # False Positives\n",
    "    FN = df_confusion.iloc[1,0]  # False Negatives\n",
    "    TN = df_confusion.iloc[1,1]  # True Negatives\n",
    "\n",
    "    precision_score = TP/(TP+FP)\n",
    "    recall_score = TP/(TP+FN)\n",
    "    f1_score = 2*((precision_score*recall_score)/(precision_score+recall_score))\n",
    "\n",
    "    true_positive_rate = TP/(TP + FN)\n",
    "    false_positive_rate = FP/(FP+TN)\n",
    "    \n",
    "    print('\\nPrecision Score = ', precision_score)\n",
    "    print('\\nRecall Score = ', recall_score)\n",
    "    print('\\nF1 Score = ', f1_score)\n",
    "    print('\\nTrue Positive Rate = ', true_positive_rate)\n",
    "    print('\\nFalse Positive Rate = ', false_positive_rate)"
   ]
  },
  {
   "cell_type": "code",
   "execution_count": null,
   "metadata": {},
   "outputs": [],
   "source": [
    "param_sweep(4)"
   ]
  },
  {
   "cell_type": "markdown",
   "metadata": {},
   "source": [
    "With the max_samples parameter set so low, the algorithm performed extremely poorly, detecting almost no anamolies and incorrectly labeling others. "
   ]
  },
  {
   "cell_type": "code",
   "execution_count": null,
   "metadata": {},
   "outputs": [],
   "source": [
    "param_sweep(5)"
   ]
  },
  {
   "cell_type": "markdown",
   "metadata": {},
   "source": [
    "By increasing this parameter by 1, the precision increased significantly and was able to correctly identify anomalies. However, the algorithm did not even get close to detecting all anomalies present. "
   ]
  },
  {
   "cell_type": "code",
   "execution_count": null,
   "metadata": {},
   "outputs": [],
   "source": [
    "param_sweep(50)"
   ]
  },
  {
   "cell_type": "markdown",
   "metadata": {},
   "source": [
    "By further increasing the max samples the algorithm was able to detect only anomalies, though many anomalies were still missed. We will continue to increase this parameter to determine what the optimal value for max samples is. "
   ]
  },
  {
   "cell_type": "code",
   "execution_count": null,
   "metadata": {},
   "outputs": [],
   "source": [
    "param_sweep(100)"
   ]
  },
  {
   "cell_type": "code",
   "execution_count": null,
   "metadata": {},
   "outputs": [],
   "source": [
    "param_sweep(150)"
   ]
  },
  {
   "cell_type": "code",
   "execution_count": null,
   "metadata": {},
   "outputs": [],
   "source": [
    "param_sweep(500)"
   ]
  },
  {
   "cell_type": "code",
   "execution_count": null,
   "metadata": {},
   "outputs": [],
   "source": [
    "param_sweep(1000)"
   ]
  },
  {
   "cell_type": "code",
   "execution_count": null,
   "metadata": {},
   "outputs": [],
   "source": [
    "param_sweep(1250)"
   ]
  },
  {
   "cell_type": "code",
   "execution_count": null,
   "metadata": {},
   "outputs": [],
   "source": [
    "param_sweep(1500)"
   ]
  },
  {
   "cell_type": "code",
   "execution_count": null,
   "metadata": {},
   "outputs": [],
   "source": [
    "param_sweep(1700)"
   ]
  },
  {
   "cell_type": "code",
   "execution_count": null,
   "metadata": {},
   "outputs": [],
   "source": [
    "param_sweep(2000)"
   ]
  },
  {
   "cell_type": "code",
   "execution_count": null,
   "metadata": {},
   "outputs": [],
   "source": [
    "param_sweep(2400)"
   ]
  },
  {
   "cell_type": "code",
   "execution_count": null,
   "metadata": {},
   "outputs": [],
   "source": []
  }
 ],
 "metadata": {
  "kernelspec": {
   "display_name": "Python 3",
   "language": "python",
   "name": "python3"
  },
  "language_info": {
   "codemirror_mode": {
    "name": "ipython",
    "version": 3
   },
   "file_extension": ".py",
   "mimetype": "text/x-python",
   "name": "python",
   "nbconvert_exporter": "python",
   "pygments_lexer": "ipython3",
   "version": "3.8.3"
  }
 },
 "nbformat": 4,
 "nbformat_minor": 4
}
