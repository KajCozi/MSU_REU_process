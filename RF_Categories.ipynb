{
 "cells": [
  {
   "cell_type": "code",
   "execution_count": 9,
   "metadata": {},
   "outputs": [],
   "source": [
    "# Import dataset - Can use 10% of entire dataset or subset = 'http'\n",
    "from sklearn.datasets import fetch_kddcup99\n",
    "kdd99_data = fetch_kddcup99(subset='http')\n",
    "import numpy as np\n",
    "X_og = kdd99_data['data']\n",
    "y_og = kdd99_data['target']"
   ]
  },
  {
   "cell_type": "code",
   "execution_count": null,
   "metadata": {},
   "outputs": [],
   "source": [
    "# When running 10% of entire dataset - Remove categorical data\n",
    "X_num_sample = np.delete(X_og,[1,2,3],1)\n",
    "print(X_num_sample.shape)\n",
    "print(y_og.shape)"
   ]
  },
  {
   "cell_type": "code",
   "execution_count": null,
   "metadata": {},
   "outputs": [],
   "source": [
    "# Make sure all categorical columns were removed\n",
    "X_num_sample[0:1]"
   ]
  },
  {
   "cell_type": "code",
   "execution_count": null,
   "metadata": {},
   "outputs": [],
   "source": [
    "# When running 10% of entire dataset - Take a sample from the dataset \n",
    "sample_indices = np.random.choice(range(len(y_og)), 59000)\n",
    "X_sample = X_num_sample[sample_indices,:]\n",
    "y = y_og[sample_indices]\n",
    "print(X_sample.shape)\n",
    "print(y.shape)"
   ]
  },
  {
   "cell_type": "code",
   "execution_count": 10,
   "metadata": {},
   "outputs": [
    {
     "name": "stdout",
     "output_type": "stream",
     "text": [
      "(59000, 3)\n",
      "(59000,)\n"
     ]
    }
   ],
   "source": [
    "# http subset - Take a sample from the dataset\n",
    "sample_indices = np.random.choice(range(len(y_og)), 59000)\n",
    "X_sample = X_og[sample_indices,:]\n",
    "y = y_og[sample_indices]\n",
    "print(X_sample.shape)\n",
    "print(y.shape)"
   ]
  },
  {
   "cell_type": "code",
   "execution_count": 11,
   "metadata": {},
   "outputs": [],
   "source": [
    "# Assign each attack type to a numerical representation of an attack category\n",
    "\n",
    "for i in range(X_sample.shape[0]):\n",
    "  \n",
    "    if(y[i]==b'normal.'):\n",
    "        y[i] = 0\n",
    "    \n",
    "# dos\n",
    "    if(y[i]==b'neptune.'or y[i]==b'smurf.'or y[i]==b'pod.' or y[i]==b'teardrop.' or y[i]==b'land.' or y[i]==b'back.'):\n",
    "        y[i] = 1\n",
    "\n",
    "# u2r\n",
    "    if(y[i]==b'buffer_overflow.' or y[i]==b'loadmodule.' or y[i]==b'perl.' or y[i]==b'rootkit.'):\n",
    "        y[i] = 2\n",
    "    \n",
    "# r2l \n",
    "    if(y[i]==b'guess_passwd.' or y[i]==b'ftp_write.' or y[i]==b'imap.' or y[i]==b'phf.' or y[i]==b'multihop.' or y[i]==b'warezmaster.' or y[i]==b'warezclient.' or y[i]==b'spy.'):\n",
    "        y[i] = 3\n",
    "\n",
    "# probe\n",
    "    if(y[i]==b'portsweep.' or y[i]==b'ipsweep.' or y[i]==b'nmap.' or y[i]==b'satan.'):\n",
    "        y[i] = 4"
   ]
  },
  {
   "cell_type": "code",
   "execution_count": 12,
   "metadata": {},
   "outputs": [
    {
     "name": "stdout",
     "output_type": "stream",
     "text": [
      "{0, 1, 3, 4}\n"
     ]
    }
   ],
   "source": [
    "# y is now an array of integers\n",
    "y = np.int64(y)\n",
    "y[0:100]\n",
    "print(set(y))"
   ]
  },
  {
   "cell_type": "code",
   "execution_count": 13,
   "metadata": {},
   "outputs": [],
   "source": [
    "# Split data into testing and training sets\n",
    "from sklearn.model_selection import train_test_split \n",
    "X_train, X_test, y_train, y_test = train_test_split(X_sample, y, test_size=0.33, random_state=42)"
   ]
  },
  {
   "cell_type": "code",
   "execution_count": 14,
   "metadata": {},
   "outputs": [],
   "source": [
    "# Use RF classifier to label attack types as 'normal, dos, u2r, r2l, or probe'\n",
    "from sklearn.ensemble import RandomForestClassifier\n",
    "clf = RandomForestClassifier(max_depth = 20, random_state = 42)\n",
    "clf.fit(X_train,y_train)\n",
    "y_pred = clf.predict(X_test)"
   ]
  },
  {
   "cell_type": "code",
   "execution_count": 15,
   "metadata": {},
   "outputs": [],
   "source": [
    "from sklearn.metrics import recall_score\n",
    "from sklearn.metrics import precision_score\n",
    "from sklearn.metrics import f1_score\n",
    "from sklearn.ensemble import RandomForestClassifier\n",
    "\n",
    "recall_scores = []\n",
    "precision_scores = []\n",
    "f1_scores = []\n",
    "\n",
    "def calculations(n):\n",
    " \n",
    "    clf = RandomForestClassifier(max_depth = n, random_state = 42)\n",
    "    clf.fit(X_train,y_train)\n",
    "    y_pred = clf.predict(X_test)\n",
    "    \n",
    "  \n",
    "    y_pred = np.array(y_pred)\n",
    "    r = recall_score(y_test, y_pred, average = 'micro')\n",
    "    p = precision_score(y_test, y_pred, average = 'micro')\n",
    "    f = f1_score(y_test, y_pred, average = 'micro')\n",
    "    \n",
    "   \n",
    "    recall_scores.append(r)\n",
    "    precision_scores.append(p)\n",
    "    f1_scores.append(f)"
   ]
  },
  {
   "cell_type": "code",
   "execution_count": 16,
   "metadata": {},
   "outputs": [],
   "source": [
    "ilist = []\n",
    "i = 1\n",
    "while i<20:\n",
    "    calculations(i)\n",
    "    ilist.append(i)\n",
    "    i=i+1"
   ]
  },
  {
   "cell_type": "code",
   "execution_count": 17,
   "metadata": {},
   "outputs": [
    {
     "data": {
      "text/plain": [
       "19470"
      ]
     },
     "execution_count": 17,
     "metadata": {},
     "output_type": "execute_result"
    }
   ],
   "source": [
    "y_test.shape[0]"
   ]
  },
  {
   "cell_type": "code",
   "execution_count": 18,
   "metadata": {},
   "outputs": [
    {
     "data": {
      "text/plain": [
       "19470"
      ]
     },
     "execution_count": 18,
     "metadata": {},
     "output_type": "execute_result"
    }
   ],
   "source": [
    "X_test.shape[0]"
   ]
  },
  {
   "cell_type": "code",
   "execution_count": 23,
   "metadata": {},
   "outputs": [
    {
     "name": "stdout",
     "output_type": "stream",
     "text": [
      "[0.962557781201849, 0.9998972778633796, 0.9999486389316897, 0.9999486389316897, 0.9999486389316897, 0.9999486389316897, 0.9999486389316897, 0.9999486389316897, 0.9999486389316897, 0.9999486389316897, 0.9999486389316897, 0.9999486389316897, 0.9999486389316897, 0.9999486389316897, 0.9999486389316897, 0.9999486389316897, 0.9999486389316897, 0.9999486389316897, 0.9999486389316897]\n",
      "[0.962557781201849, 0.9998972778633796, 0.9999486389316897, 0.9999486389316897, 0.9999486389316897, 0.9999486389316897, 0.9999486389316897, 0.9999486389316897, 0.9999486389316897, 0.9999486389316897, 0.9999486389316897, 0.9999486389316897, 0.9999486389316897, 0.9999486389316897, 0.9999486389316897, 0.9999486389316897, 0.9999486389316897, 0.9999486389316897, 0.9999486389316897]\n",
      "[0.962557781201849, 0.9998972778633796, 0.9999486389316897, 0.9999486389316897, 0.9999486389316897, 0.9999486389316897, 0.9999486389316897, 0.9999486389316897, 0.9999486389316897, 0.9999486389316897, 0.9999486389316897, 0.9999486389316897, 0.9999486389316897, 0.9999486389316897, 0.9999486389316897, 0.9999486389316897, 0.9999486389316897, 0.9999486389316897, 0.9999486389316897]\n"
     ]
    }
   ],
   "source": [
    "print(recall_scores)\n",
    "print(precision_scores)\n",
    "print(f1_scores)"
   ]
  },
  {
   "cell_type": "code",
   "execution_count": 19,
   "metadata": {},
   "outputs": [],
   "source": [
    "import matplotlib.pyplot as plt"
   ]
  },
  {
   "cell_type": "code",
   "execution_count": 20,
   "metadata": {},
   "outputs": [
    {
     "data": {
      "image/png": "[encoded data removed]",
      "text/plain": [
       "<Figure size 432x288 with 1 Axes>"
      ]
     },
     "metadata": {
      "needs_background": "light"
     },
     "output_type": "display_data"
    }
   ],
   "source": [
    "plt.plot(ilist, recall_scores)\n",
    "plt.xlabel('Tree Depth')\n",
    "plt.ylabel('Recall Score')\n",
    "plt.title('RF Classifier Recall Plot')\n",
    "plt.show()"
   ]
  },
  {
   "cell_type": "code",
   "execution_count": 21,
   "metadata": {},
   "outputs": [
    {
     "data": {
      "image/png": "[encoded data removed]",
      "text/plain": [
       "<Figure size 432x288 with 1 Axes>"
      ]
     },
     "metadata": {
      "needs_background": "light"
     },
     "output_type": "display_data"
    }
   ],
   "source": [
    "plt.plot(ilist, precision_scores)\n",
    "plt.xlabel('Tree Depth')\n",
    "plt.ylabel('Precision Score')\n",
    "plt.title('RF Classifier Precision Plot')\n",
    "plt.show()"
   ]
  },
  {
   "cell_type": "code",
   "execution_count": 22,
   "metadata": {},
   "outputs": [
    {
     "data": {
      "image/png": "[encoded data removed]",
      "text/plain": [
       "<Figure size 432x288 with 1 Axes>"
      ]
     },
     "metadata": {
      "needs_background": "light"
     },
     "output_type": "display_data"
    }
   ],
   "source": [
    "plt.plot(ilist, f1_scores)\n",
    "plt.xlabel('Tree Depth')\n",
    "plt.ylabel('F1 Score')\n",
    "plt.title('RF Classifier F1 Score Plot')\n",
    "plt.show()"
   ]
  }
 ],
 "metadata": {
  "kernelspec": {
   "display_name": "Python 3",
   "language": "python",
   "name": "python3"
  },
  "language_info": {
   "codemirror_mode": {
    "name": "ipython",
    "version": 3
   },
   "file_extension": ".py",
   "mimetype": "text/x-python",
   "name": "python",
   "nbconvert_exporter": "python",
   "pygments_lexer": "ipython3",
   "version": "3.8.3"
  }
 },
 "nbformat": 4,
 "nbformat_minor": 4
}
