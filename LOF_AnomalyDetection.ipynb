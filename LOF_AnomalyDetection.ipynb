{
 "cells": [
  {
   "cell_type": "markdown",
   "metadata": {},
   "source": [
    "This program runs the Local Outlier Factor (LOF) method over the KDDCUP99 dataset to determine if data instances within the set are normal or anomalous."
   ]
  },
  {
   "cell_type": "code",
   "execution_count": null,
   "metadata": {},
   "outputs": [],
   "source": [
    "from sklearn.datasets import fetch_kddcup99\n",
    "kddcup99_data = fetch_kddcup99(subset='http')\n",
    "X = kddcup99_data['data']\n",
    "y = kddcup99_data['target']\n",
    "y[y == b'normal.'] = 1\n",
    "y[y!= 1] = -1"
   ]
  },
  {
   "cell_type": "code",
   "execution_count": null,
   "metadata": {},
   "outputs": [],
   "source": [
    "from sklearn.neighbors import LocalOutlierFactor\n",
    "lof = LocalOutlierFactor(n_neighbors = 3)"
   ]
  },
  {
   "cell_type": "markdown",
   "metadata": {},
   "source": [
    "The code above allows us to select the desired number of neighbors for each data instance by manipulating the n_neighbors parameter."
   ]
  },
  {
   "cell_type": "code",
   "execution_count": null,
   "metadata": {},
   "outputs": [],
   "source": [
    "anomaly_predictions = lof.fit_predict(X)\n",
    "print(anomaly_predictions[0:100])"
   ]
  },
  {
   "cell_type": "markdown",
   "metadata": {},
   "source": [
    "Here predictions for each data point are returned as either a 1 or -1. Points with a label of 1 are considered to be normal, while points with the label of -1 are anomalous. The large size of the returned data is much too large to display here, so only the first 100 points are shown. Of the 100 points, it can be seen that 12 are labeled as anomalies. "
   ]
  },
  {
   "cell_type": "code",
   "execution_count": null,
   "metadata": {},
   "outputs": [],
   "source": [
    "lof = LocalOutlierFactor(n_neighbors = 15)"
   ]
  },
  {
   "cell_type": "markdown",
   "metadata": {},
   "source": [
    "By manipulating the n_neighbors parameter, we are able to increase the number of nearest neighbors. We would expect fewer anomalies to be present with a larger number of nearest neighbors. "
   ]
  },
  {
   "cell_type": "code",
   "execution_count": null,
   "metadata": {},
   "outputs": [],
   "source": [
    "anomaly_predictions = lof.fit_predict(X)\n",
    "print(anomaly_predictions[0:100])"
   ]
  },
  {
   "cell_type": "markdown",
   "metadata": {},
   "source": [
    "As expected, less anomalies are found within the first 100 data points. Of the 100 points, now only 1 is labeled as an anomaly. From here we can look at the negative of the LOF for each data instance to tell us how anomalous each point is. Points that have a lower local outlier factor are less anomalous than those with a high factor score. "
   ]
  },
  {
   "cell_type": "code",
   "execution_count": null,
   "metadata": {},
   "outputs": [],
   "source": [
    "print(lof.negative_outlier_factor_[0:100])"
   ]
  },
  {
   "cell_type": "markdown",
   "metadata": {},
   "source": [
    "The offset_ attribute will tell us the threshold used to label the anomalous points. "
   ]
  },
  {
   "cell_type": "code",
   "execution_count": null,
   "metadata": {},
   "outputs": [],
   "source": [
    "lof.offset_"
   ]
  },
  {
   "cell_type": "markdown",
   "metadata": {},
   "source": [
    "The output here informs us that a point is considered to be an anomaly if its local outlier factor is greater than 1.5. Using the same number of nearest neighbors, we are able to obtain a different threshold by manipulating the contamination parameter. "
   ]
  },
  {
   "cell_type": "code",
   "execution_count": null,
   "metadata": {},
   "outputs": [],
   "source": [
    "lof = LocalOutlierFactor(n_neighbors = 15, contamination=0.2)\n",
    "anomaly_predictions = lof.fit_predict(X)\n",
    "print(anomaly_predictions[0:10])"
   ]
  },
  {
   "cell_type": "markdown",
   "metadata": {},
   "source": [
    "Although the n_neighbors parameter remained the same, the number of anomalies increased. This is because, for this particular example, we found 20% of the data with the largest local outlier factor values. "
   ]
  },
  {
   "cell_type": "code",
   "execution_count": null,
   "metadata": {},
   "outputs": [],
   "source": [
    "lof.offset_"
   ]
  },
  {
   "cell_type": "markdown",
   "metadata": {},
   "source": [
    "The offset_ attribute on these anomaly predictions is lower than the result returned before setting the contamination. Intuitively this makes sense because a lower threshold usually indicates more anomalies. Thus, we have obtained our expected results.  "
   ]
  }
 ],
 "metadata": {
  "kernelspec": {
   "display_name": "Python 3",
   "language": "python",
   "name": "python3"
  },
  "language_info": {
   "codemirror_mode": {
    "name": "ipython",
    "version": 3
   },
   "file_extension": ".py",
   "mimetype": "text/x-python",
   "name": "python",
   "nbconvert_exporter": "python",
   "pygments_lexer": "ipython3",
   "version": "3.8.3"
  }
 },
 "nbformat": 4,
 "nbformat_minor": 4
}
