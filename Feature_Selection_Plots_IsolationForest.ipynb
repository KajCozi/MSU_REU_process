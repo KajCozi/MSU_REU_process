{
 "cells": [
  {
   "cell_type": "code",
   "execution_count": 11,
   "metadata": {},
   "outputs": [],
   "source": [
    "from sklearn.metrics import recall_score\n",
    "from sklearn.metrics import precision_score\n",
    "from sklearn.metrics import f1_score\n",
    "from sklearn.ensemble import IsolationForest\n",
    "from sklearn.feature_selection import SelectKBest, f_classif"
   ]
  },
  {
   "cell_type": "code",
   "execution_count": 2,
   "metadata": {},
   "outputs": [],
   "source": [
    "from sklearn.datasets import fetch_kddcup99\n",
    "import numpy as np\n",
    "kddcup99_data = fetch_kddcup99()\n",
    "X = kddcup99_data['data']\n",
    "y = kddcup99_data['target']\n",
    "y[y == b'normal.'] = 1\n",
    "y[y!= 1] = -1\n",
    "y = np.int64(y)"
   ]
  },
  {
   "cell_type": "code",
   "execution_count": 3,
   "metadata": {},
   "outputs": [
    {
     "name": "stdout",
     "output_type": "stream",
     "text": [
      "(59000, 41)\n",
      "(59000,)\n"
     ]
    }
   ],
   "source": [
    "sample_indices = np.random.choice(range(len(y)), 59000)\n",
    "X_sample = X[sample_indices,:]\n",
    "y_sample=y[sample_indices]\n",
    "print(X_sample.shape)\n",
    "print(y_sample.shape)"
   ]
  },
  {
   "cell_type": "code",
   "execution_count": 4,
   "metadata": {},
   "outputs": [
    {
     "name": "stdout",
     "output_type": "stream",
     "text": [
      "(59000, 38)\n",
      "(59000,)\n"
     ]
    }
   ],
   "source": [
    "X_num_sample = np.delete(X_sample,[1,2,3],1)\n",
    "print(X_num_sample.shape)\n",
    "print(y_sample.shape)"
   ]
  },
  {
   "cell_type": "code",
   "execution_count": 5,
   "metadata": {},
   "outputs": [],
   "source": [
    "recall_scores = []\n",
    "precision_scores = []\n",
    "f1_scores = []\n",
    "\n",
    "def num_of_features(n):\n",
    "    fs = SelectKBest(score_func = f_classif, k = n)\n",
    "    X_selected = fs.fit_transform(X_num_sample,y_sample)\n",
    "#     print(X_selected.shape)\n",
    "    \n",
    "    isof = IsolationForest(max_samples=100, random_state=42)\n",
    "    isof.fit(X_selected)\n",
    "    anomaly_predictions = isof.predict(X_selected)\n",
    "    anomaly_predictions = np.array(anomaly_predictions)\n",
    "#     print(anomaly_predictions[0:100])\n",
    "    \n",
    "    r = recall_score(y_sample, anomaly_predictions, pos_label = -1)\n",
    "    p = precision_score(y_sample, anomaly_predictions, pos_label = -1)\n",
    "    f = f1_score(y_sample, anomaly_predictions, pos_label = -1)\n",
    "#     print('r=', r, '\\np=', p, '\\nf=', f)\n",
    "    \n",
    "    recall_scores.append(r)\n",
    "    precision_scores.append(p)\n",
    "    f1_scores.append(f)\n",
    "    "
   ]
  },
  {
   "cell_type": "code",
   "execution_count": 13,
   "metadata": {},
   "outputs": [],
   "source": [
    "def single_calc(n):\n",
    "    fs = SelectKBest(score_func = f_classif, k = n)\n",
    "    X_selected = fs.fit_transform(X_num_sample,y_sample)\n",
    "#     print(X_selected.shape)\n",
    "    \n",
    "    isof = IsolationForest(max_samples=100, random_state=42)\n",
    "    isof.fit(X_selected)\n",
    "    anomaly_predictions = isof.predict(X_selected)\n",
    "    anomaly_predictions = np.array(anomaly_predictions)\n",
    "#     print(anomaly_predictions[0:100])\n",
    "    \n",
    "    r = recall_score(y_sample, anomaly_predictions, pos_label = -1)\n",
    "    p = precision_score(y_sample, anomaly_predictions, pos_label = -1)\n",
    "    f = f1_score(y_sample, anomaly_predictions, pos_label = -1)\n",
    "    print('r=', r, '\\np=', p, '\\nf=', f)"
   ]
  },
  {
   "cell_type": "code",
   "execution_count": 6,
   "metadata": {},
   "outputs": [
    {
     "name": "stderr",
     "output_type": "stream",
     "text": [
      "c:\\users\\kajia\\appdata\\local\\programs\\python\\python38-32\\lib\\site-packages\\sklearn\\feature_selection\\_univariate_selection.py:114: UserWarning: Features [ 5 11 16 17] are constant.\n",
      "  warnings.warn(\"Features %s are constant.\" % constant_features_idx,\n",
      "c:\\users\\kajia\\appdata\\local\\programs\\python\\python38-32\\lib\\site-packages\\sklearn\\feature_selection\\_univariate_selection.py:116: RuntimeWarning: invalid value encountered in true_divide\n",
      "  f = msb / msw\n",
      "c:\\users\\kajia\\appdata\\local\\programs\\python\\python38-32\\lib\\site-packages\\sklearn\\feature_selection\\_univariate_selection.py:114: UserWarning: Features [ 5 11 16 17] are constant.\n",
      "  warnings.warn(\"Features %s are constant.\" % constant_features_idx,\n",
      "c:\\users\\kajia\\appdata\\local\\programs\\python\\python38-32\\lib\\site-packages\\sklearn\\feature_selection\\_univariate_selection.py:116: RuntimeWarning: invalid value encountered in true_divide\n",
      "  f = msb / msw\n",
      "c:\\users\\kajia\\appdata\\local\\programs\\python\\python38-32\\lib\\site-packages\\sklearn\\feature_selection\\_univariate_selection.py:114: UserWarning: Features [ 5 11 16 17] are constant.\n",
      "  warnings.warn(\"Features %s are constant.\" % constant_features_idx,\n",
      "c:\\users\\kajia\\appdata\\local\\programs\\python\\python38-32\\lib\\site-packages\\sklearn\\feature_selection\\_univariate_selection.py:116: RuntimeWarning: invalid value encountered in true_divide\n",
      "  f = msb / msw\n",
      "c:\\users\\kajia\\appdata\\local\\programs\\python\\python38-32\\lib\\site-packages\\sklearn\\feature_selection\\_univariate_selection.py:114: UserWarning: Features [ 5 11 16 17] are constant.\n",
      "  warnings.warn(\"Features %s are constant.\" % constant_features_idx,\n",
      "c:\\users\\kajia\\appdata\\local\\programs\\python\\python38-32\\lib\\site-packages\\sklearn\\feature_selection\\_univariate_selection.py:116: RuntimeWarning: invalid value encountered in true_divide\n",
      "  f = msb / msw\n",
      "c:\\users\\kajia\\appdata\\local\\programs\\python\\python38-32\\lib\\site-packages\\sklearn\\feature_selection\\_univariate_selection.py:114: UserWarning: Features [ 5 11 16 17] are constant.\n",
      "  warnings.warn(\"Features %s are constant.\" % constant_features_idx,\n",
      "c:\\users\\kajia\\appdata\\local\\programs\\python\\python38-32\\lib\\site-packages\\sklearn\\feature_selection\\_univariate_selection.py:116: RuntimeWarning: invalid value encountered in true_divide\n",
      "  f = msb / msw\n",
      "c:\\users\\kajia\\appdata\\local\\programs\\python\\python38-32\\lib\\site-packages\\sklearn\\feature_selection\\_univariate_selection.py:114: UserWarning: Features [ 5 11 16 17] are constant.\n",
      "  warnings.warn(\"Features %s are constant.\" % constant_features_idx,\n",
      "c:\\users\\kajia\\appdata\\local\\programs\\python\\python38-32\\lib\\site-packages\\sklearn\\feature_selection\\_univariate_selection.py:116: RuntimeWarning: invalid value encountered in true_divide\n",
      "  f = msb / msw\n",
      "c:\\users\\kajia\\appdata\\local\\programs\\python\\python38-32\\lib\\site-packages\\sklearn\\feature_selection\\_univariate_selection.py:114: UserWarning: Features [ 5 11 16 17] are constant.\n",
      "  warnings.warn(\"Features %s are constant.\" % constant_features_idx,\n",
      "c:\\users\\kajia\\appdata\\local\\programs\\python\\python38-32\\lib\\site-packages\\sklearn\\feature_selection\\_univariate_selection.py:116: RuntimeWarning: invalid value encountered in true_divide\n",
      "  f = msb / msw\n",
      "c:\\users\\kajia\\appdata\\local\\programs\\python\\python38-32\\lib\\site-packages\\sklearn\\feature_selection\\_univariate_selection.py:114: UserWarning: Features [ 5 11 16 17] are constant.\n",
      "  warnings.warn(\"Features %s are constant.\" % constant_features_idx,\n",
      "c:\\users\\kajia\\appdata\\local\\programs\\python\\python38-32\\lib\\site-packages\\sklearn\\feature_selection\\_univariate_selection.py:116: RuntimeWarning: invalid value encountered in true_divide\n",
      "  f = msb / msw\n",
      "c:\\users\\kajia\\appdata\\local\\programs\\python\\python38-32\\lib\\site-packages\\sklearn\\feature_selection\\_univariate_selection.py:114: UserWarning: Features [ 5 11 16 17] are constant.\n",
      "  warnings.warn(\"Features %s are constant.\" % constant_features_idx,\n",
      "c:\\users\\kajia\\appdata\\local\\programs\\python\\python38-32\\lib\\site-packages\\sklearn\\feature_selection\\_univariate_selection.py:116: RuntimeWarning: invalid value encountered in true_divide\n",
      "  f = msb / msw\n",
      "c:\\users\\kajia\\appdata\\local\\programs\\python\\python38-32\\lib\\site-packages\\sklearn\\feature_selection\\_univariate_selection.py:114: UserWarning: Features [ 5 11 16 17] are constant.\n",
      "  warnings.warn(\"Features %s are constant.\" % constant_features_idx,\n",
      "c:\\users\\kajia\\appdata\\local\\programs\\python\\python38-32\\lib\\site-packages\\sklearn\\feature_selection\\_univariate_selection.py:116: RuntimeWarning: invalid value encountered in true_divide\n",
      "  f = msb / msw\n",
      "c:\\users\\kajia\\appdata\\local\\programs\\python\\python38-32\\lib\\site-packages\\sklearn\\feature_selection\\_univariate_selection.py:114: UserWarning: Features [ 5 11 16 17] are constant.\n",
      "  warnings.warn(\"Features %s are constant.\" % constant_features_idx,\n",
      "c:\\users\\kajia\\appdata\\local\\programs\\python\\python38-32\\lib\\site-packages\\sklearn\\feature_selection\\_univariate_selection.py:116: RuntimeWarning: invalid value encountered in true_divide\n",
      "  f = msb / msw\n",
      "c:\\users\\kajia\\appdata\\local\\programs\\python\\python38-32\\lib\\site-packages\\sklearn\\feature_selection\\_univariate_selection.py:114: UserWarning: Features [ 5 11 16 17] are constant.\n",
      "  warnings.warn(\"Features %s are constant.\" % constant_features_idx,\n",
      "c:\\users\\kajia\\appdata\\local\\programs\\python\\python38-32\\lib\\site-packages\\sklearn\\feature_selection\\_univariate_selection.py:116: RuntimeWarning: invalid value encountered in true_divide\n",
      "  f = msb / msw\n",
      "c:\\users\\kajia\\appdata\\local\\programs\\python\\python38-32\\lib\\site-packages\\sklearn\\feature_selection\\_univariate_selection.py:114: UserWarning: Features [ 5 11 16 17] are constant.\n",
      "  warnings.warn(\"Features %s are constant.\" % constant_features_idx,\n",
      "c:\\users\\kajia\\appdata\\local\\programs\\python\\python38-32\\lib\\site-packages\\sklearn\\feature_selection\\_univariate_selection.py:116: RuntimeWarning: invalid value encountered in true_divide\n",
      "  f = msb / msw\n",
      "c:\\users\\kajia\\appdata\\local\\programs\\python\\python38-32\\lib\\site-packages\\sklearn\\feature_selection\\_univariate_selection.py:114: UserWarning: Features [ 5 11 16 17] are constant.\n",
      "  warnings.warn(\"Features %s are constant.\" % constant_features_idx,\n",
      "c:\\users\\kajia\\appdata\\local\\programs\\python\\python38-32\\lib\\site-packages\\sklearn\\feature_selection\\_univariate_selection.py:116: RuntimeWarning: invalid value encountered in true_divide\n",
      "  f = msb / msw\n",
      "c:\\users\\kajia\\appdata\\local\\programs\\python\\python38-32\\lib\\site-packages\\sklearn\\feature_selection\\_univariate_selection.py:114: UserWarning: Features [ 5 11 16 17] are constant.\n",
      "  warnings.warn(\"Features %s are constant.\" % constant_features_idx,\n",
      "c:\\users\\kajia\\appdata\\local\\programs\\python\\python38-32\\lib\\site-packages\\sklearn\\feature_selection\\_univariate_selection.py:116: RuntimeWarning: invalid value encountered in true_divide\n",
      "  f = msb / msw\n",
      "c:\\users\\kajia\\appdata\\local\\programs\\python\\python38-32\\lib\\site-packages\\sklearn\\feature_selection\\_univariate_selection.py:114: UserWarning: Features [ 5 11 16 17] are constant.\n",
      "  warnings.warn(\"Features %s are constant.\" % constant_features_idx,\n",
      "c:\\users\\kajia\\appdata\\local\\programs\\python\\python38-32\\lib\\site-packages\\sklearn\\feature_selection\\_univariate_selection.py:116: RuntimeWarning: invalid value encountered in true_divide\n",
      "  f = msb / msw\n",
      "c:\\users\\kajia\\appdata\\local\\programs\\python\\python38-32\\lib\\site-packages\\sklearn\\feature_selection\\_univariate_selection.py:114: UserWarning: Features [ 5 11 16 17] are constant.\n",
      "  warnings.warn(\"Features %s are constant.\" % constant_features_idx,\n",
      "c:\\users\\kajia\\appdata\\local\\programs\\python\\python38-32\\lib\\site-packages\\sklearn\\feature_selection\\_univariate_selection.py:116: RuntimeWarning: invalid value encountered in true_divide\n",
      "  f = msb / msw\n",
      "c:\\users\\kajia\\appdata\\local\\programs\\python\\python38-32\\lib\\site-packages\\sklearn\\feature_selection\\_univariate_selection.py:114: UserWarning: Features [ 5 11 16 17] are constant.\n",
      "  warnings.warn(\"Features %s are constant.\" % constant_features_idx,\n",
      "c:\\users\\kajia\\appdata\\local\\programs\\python\\python38-32\\lib\\site-packages\\sklearn\\feature_selection\\_univariate_selection.py:116: RuntimeWarning: invalid value encountered in true_divide\n",
      "  f = msb / msw\n",
      "c:\\users\\kajia\\appdata\\local\\programs\\python\\python38-32\\lib\\site-packages\\sklearn\\feature_selection\\_univariate_selection.py:114: UserWarning: Features [ 5 11 16 17] are constant.\n",
      "  warnings.warn(\"Features %s are constant.\" % constant_features_idx,\n",
      "c:\\users\\kajia\\appdata\\local\\programs\\python\\python38-32\\lib\\site-packages\\sklearn\\feature_selection\\_univariate_selection.py:116: RuntimeWarning: invalid value encountered in true_divide\n",
      "  f = msb / msw\n"
     ]
    },
    {
     "name": "stderr",
     "output_type": "stream",
     "text": [
      "c:\\users\\kajia\\appdata\\local\\programs\\python\\python38-32\\lib\\site-packages\\sklearn\\feature_selection\\_univariate_selection.py:114: UserWarning: Features [ 5 11 16 17] are constant.\n",
      "  warnings.warn(\"Features %s are constant.\" % constant_features_idx,\n",
      "c:\\users\\kajia\\appdata\\local\\programs\\python\\python38-32\\lib\\site-packages\\sklearn\\feature_selection\\_univariate_selection.py:116: RuntimeWarning: invalid value encountered in true_divide\n",
      "  f = msb / msw\n",
      "c:\\users\\kajia\\appdata\\local\\programs\\python\\python38-32\\lib\\site-packages\\sklearn\\feature_selection\\_univariate_selection.py:114: UserWarning: Features [ 5 11 16 17] are constant.\n",
      "  warnings.warn(\"Features %s are constant.\" % constant_features_idx,\n",
      "c:\\users\\kajia\\appdata\\local\\programs\\python\\python38-32\\lib\\site-packages\\sklearn\\feature_selection\\_univariate_selection.py:116: RuntimeWarning: invalid value encountered in true_divide\n",
      "  f = msb / msw\n",
      "c:\\users\\kajia\\appdata\\local\\programs\\python\\python38-32\\lib\\site-packages\\sklearn\\feature_selection\\_univariate_selection.py:114: UserWarning: Features [ 5 11 16 17] are constant.\n",
      "  warnings.warn(\"Features %s are constant.\" % constant_features_idx,\n",
      "c:\\users\\kajia\\appdata\\local\\programs\\python\\python38-32\\lib\\site-packages\\sklearn\\feature_selection\\_univariate_selection.py:116: RuntimeWarning: invalid value encountered in true_divide\n",
      "  f = msb / msw\n",
      "c:\\users\\kajia\\appdata\\local\\programs\\python\\python38-32\\lib\\site-packages\\sklearn\\feature_selection\\_univariate_selection.py:114: UserWarning: Features [ 5 11 16 17] are constant.\n",
      "  warnings.warn(\"Features %s are constant.\" % constant_features_idx,\n",
      "c:\\users\\kajia\\appdata\\local\\programs\\python\\python38-32\\lib\\site-packages\\sklearn\\feature_selection\\_univariate_selection.py:116: RuntimeWarning: invalid value encountered in true_divide\n",
      "  f = msb / msw\n",
      "c:\\users\\kajia\\appdata\\local\\programs\\python\\python38-32\\lib\\site-packages\\sklearn\\feature_selection\\_univariate_selection.py:114: UserWarning: Features [ 5 11 16 17] are constant.\n",
      "  warnings.warn(\"Features %s are constant.\" % constant_features_idx,\n",
      "c:\\users\\kajia\\appdata\\local\\programs\\python\\python38-32\\lib\\site-packages\\sklearn\\feature_selection\\_univariate_selection.py:116: RuntimeWarning: invalid value encountered in true_divide\n",
      "  f = msb / msw\n",
      "c:\\users\\kajia\\appdata\\local\\programs\\python\\python38-32\\lib\\site-packages\\sklearn\\feature_selection\\_univariate_selection.py:114: UserWarning: Features [ 5 11 16 17] are constant.\n",
      "  warnings.warn(\"Features %s are constant.\" % constant_features_idx,\n",
      "c:\\users\\kajia\\appdata\\local\\programs\\python\\python38-32\\lib\\site-packages\\sklearn\\feature_selection\\_univariate_selection.py:116: RuntimeWarning: invalid value encountered in true_divide\n",
      "  f = msb / msw\n",
      "c:\\users\\kajia\\appdata\\local\\programs\\python\\python38-32\\lib\\site-packages\\sklearn\\feature_selection\\_univariate_selection.py:114: UserWarning: Features [ 5 11 16 17] are constant.\n",
      "  warnings.warn(\"Features %s are constant.\" % constant_features_idx,\n",
      "c:\\users\\kajia\\appdata\\local\\programs\\python\\python38-32\\lib\\site-packages\\sklearn\\feature_selection\\_univariate_selection.py:116: RuntimeWarning: invalid value encountered in true_divide\n",
      "  f = msb / msw\n",
      "c:\\users\\kajia\\appdata\\local\\programs\\python\\python38-32\\lib\\site-packages\\sklearn\\feature_selection\\_univariate_selection.py:114: UserWarning: Features [ 5 11 16 17] are constant.\n",
      "  warnings.warn(\"Features %s are constant.\" % constant_features_idx,\n",
      "c:\\users\\kajia\\appdata\\local\\programs\\python\\python38-32\\lib\\site-packages\\sklearn\\feature_selection\\_univariate_selection.py:116: RuntimeWarning: invalid value encountered in true_divide\n",
      "  f = msb / msw\n",
      "c:\\users\\kajia\\appdata\\local\\programs\\python\\python38-32\\lib\\site-packages\\sklearn\\feature_selection\\_univariate_selection.py:114: UserWarning: Features [ 5 11 16 17] are constant.\n",
      "  warnings.warn(\"Features %s are constant.\" % constant_features_idx,\n",
      "c:\\users\\kajia\\appdata\\local\\programs\\python\\python38-32\\lib\\site-packages\\sklearn\\feature_selection\\_univariate_selection.py:116: RuntimeWarning: invalid value encountered in true_divide\n",
      "  f = msb / msw\n",
      "c:\\users\\kajia\\appdata\\local\\programs\\python\\python38-32\\lib\\site-packages\\sklearn\\feature_selection\\_univariate_selection.py:114: UserWarning: Features [ 5 11 16 17] are constant.\n",
      "  warnings.warn(\"Features %s are constant.\" % constant_features_idx,\n",
      "c:\\users\\kajia\\appdata\\local\\programs\\python\\python38-32\\lib\\site-packages\\sklearn\\feature_selection\\_univariate_selection.py:116: RuntimeWarning: invalid value encountered in true_divide\n",
      "  f = msb / msw\n",
      "c:\\users\\kajia\\appdata\\local\\programs\\python\\python38-32\\lib\\site-packages\\sklearn\\feature_selection\\_univariate_selection.py:114: UserWarning: Features [ 5 11 16 17] are constant.\n",
      "  warnings.warn(\"Features %s are constant.\" % constant_features_idx,\n",
      "c:\\users\\kajia\\appdata\\local\\programs\\python\\python38-32\\lib\\site-packages\\sklearn\\feature_selection\\_univariate_selection.py:116: RuntimeWarning: invalid value encountered in true_divide\n",
      "  f = msb / msw\n",
      "c:\\users\\kajia\\appdata\\local\\programs\\python\\python38-32\\lib\\site-packages\\sklearn\\feature_selection\\_univariate_selection.py:114: UserWarning: Features [ 5 11 16 17] are constant.\n",
      "  warnings.warn(\"Features %s are constant.\" % constant_features_idx,\n",
      "c:\\users\\kajia\\appdata\\local\\programs\\python\\python38-32\\lib\\site-packages\\sklearn\\feature_selection\\_univariate_selection.py:116: RuntimeWarning: invalid value encountered in true_divide\n",
      "  f = msb / msw\n",
      "c:\\users\\kajia\\appdata\\local\\programs\\python\\python38-32\\lib\\site-packages\\sklearn\\feature_selection\\_univariate_selection.py:114: UserWarning: Features [ 5 11 16 17] are constant.\n",
      "  warnings.warn(\"Features %s are constant.\" % constant_features_idx,\n",
      "c:\\users\\kajia\\appdata\\local\\programs\\python\\python38-32\\lib\\site-packages\\sklearn\\feature_selection\\_univariate_selection.py:116: RuntimeWarning: invalid value encountered in true_divide\n",
      "  f = msb / msw\n",
      "c:\\users\\kajia\\appdata\\local\\programs\\python\\python38-32\\lib\\site-packages\\sklearn\\feature_selection\\_univariate_selection.py:114: UserWarning: Features [ 5 11 16 17] are constant.\n",
      "  warnings.warn(\"Features %s are constant.\" % constant_features_idx,\n",
      "c:\\users\\kajia\\appdata\\local\\programs\\python\\python38-32\\lib\\site-packages\\sklearn\\feature_selection\\_univariate_selection.py:116: RuntimeWarning: invalid value encountered in true_divide\n",
      "  f = msb / msw\n",
      "c:\\users\\kajia\\appdata\\local\\programs\\python\\python38-32\\lib\\site-packages\\sklearn\\feature_selection\\_univariate_selection.py:114: UserWarning: Features [ 5 11 16 17] are constant.\n",
      "  warnings.warn(\"Features %s are constant.\" % constant_features_idx,\n",
      "c:\\users\\kajia\\appdata\\local\\programs\\python\\python38-32\\lib\\site-packages\\sklearn\\feature_selection\\_univariate_selection.py:116: RuntimeWarning: invalid value encountered in true_divide\n",
      "  f = msb / msw\n",
      "c:\\users\\kajia\\appdata\\local\\programs\\python\\python38-32\\lib\\site-packages\\sklearn\\feature_selection\\_univariate_selection.py:114: UserWarning: Features [ 5 11 16 17] are constant.\n",
      "  warnings.warn(\"Features %s are constant.\" % constant_features_idx,\n",
      "c:\\users\\kajia\\appdata\\local\\programs\\python\\python38-32\\lib\\site-packages\\sklearn\\feature_selection\\_univariate_selection.py:116: RuntimeWarning: invalid value encountered in true_divide\n",
      "  f = msb / msw\n",
      "c:\\users\\kajia\\appdata\\local\\programs\\python\\python38-32\\lib\\site-packages\\sklearn\\feature_selection\\_univariate_selection.py:114: UserWarning: Features [ 5 11 16 17] are constant.\n",
      "  warnings.warn(\"Features %s are constant.\" % constant_features_idx,\n",
      "c:\\users\\kajia\\appdata\\local\\programs\\python\\python38-32\\lib\\site-packages\\sklearn\\feature_selection\\_univariate_selection.py:116: RuntimeWarning: invalid value encountered in true_divide\n",
      "  f = msb / msw\n",
      "c:\\users\\kajia\\appdata\\local\\programs\\python\\python38-32\\lib\\site-packages\\sklearn\\feature_selection\\_univariate_selection.py:114: UserWarning: Features [ 5 11 16 17] are constant.\n",
      "  warnings.warn(\"Features %s are constant.\" % constant_features_idx,\n",
      "c:\\users\\kajia\\appdata\\local\\programs\\python\\python38-32\\lib\\site-packages\\sklearn\\feature_selection\\_univariate_selection.py:116: RuntimeWarning: invalid value encountered in true_divide\n",
      "  f = msb / msw\n",
      "c:\\users\\kajia\\appdata\\local\\programs\\python\\python38-32\\lib\\site-packages\\sklearn\\feature_selection\\_univariate_selection.py:114: UserWarning: Features [ 5 11 16 17] are constant.\n",
      "  warnings.warn(\"Features %s are constant.\" % constant_features_idx,\n",
      "c:\\users\\kajia\\appdata\\local\\programs\\python\\python38-32\\lib\\site-packages\\sklearn\\feature_selection\\_univariate_selection.py:116: RuntimeWarning: invalid value encountered in true_divide\n",
      "  f = msb / msw\n"
     ]
    }
   ],
   "source": [
    "ilist = []\n",
    "i = 1\n",
    "while i<39:\n",
    "    num_of_features(i)\n",
    "    ilist.append(i)\n",
    "    i=i+1"
   ]
  },
  {
   "cell_type": "code",
   "execution_count": 7,
   "metadata": {},
   "outputs": [
    {
     "data": {
      "image/png": "[encoded data removed]",
      "text/plain": [
       "<Figure size 432x288 with 1 Axes>"
      ]
     },
     "metadata": {
      "needs_background": "light"
     },
     "output_type": "display_data"
    }
   ],
   "source": [
    "import matplotlib.pyplot as plt\n",
    "plt.plot(ilist, recall_scores)\n",
    "plt.xlabel('Number of Features')\n",
    "plt.ylabel('Recall Score')\n",
    "plt.title('Feature Selection Recall Plot: Isolation Forest')\n",
    "plt.show()"
   ]
  },
  {
   "cell_type": "code",
   "execution_count": 8,
   "metadata": {},
   "outputs": [
    {
     "data": {
      "image/png": "[encoded data removed]",
      "text/plain": [
       "<Figure size 432x288 with 1 Axes>"
      ]
     },
     "metadata": {
      "needs_background": "light"
     },
     "output_type": "display_data"
    }
   ],
   "source": [
    "import matplotlib.pyplot as plt\n",
    "plt.plot(ilist, precision_scores)\n",
    "plt.xlabel('Number of Features')\n",
    "plt.ylabel('Precision Score')\n",
    "plt.title('Feature Selection Precision Plot: Isolation Forest ')\n",
    "plt.show()"
   ]
  },
  {
   "cell_type": "code",
   "execution_count": 9,
   "metadata": {},
   "outputs": [
    {
     "data": {
      "image/png": "[encoded data removed]",
      "text/plain": [
       "<Figure size 432x288 with 1 Axes>"
      ]
     },
     "metadata": {
      "needs_background": "light"
     },
     "output_type": "display_data"
    }
   ],
   "source": [
    "import matplotlib.pyplot as plt\n",
    "plt.plot(ilist, f1_scores)\n",
    "plt.xlabel('Number of Features')\n",
    "plt.ylabel('F1 Score')\n",
    "plt.title('Feature Selection F1 Plot: Isolation Forest ')\n",
    "plt.show()"
   ]
  },
  {
   "cell_type": "code",
   "execution_count": 14,
   "metadata": {},
   "outputs": [
    {
     "name": "stderr",
     "output_type": "stream",
     "text": [
      "c:\\users\\kajia\\appdata\\local\\programs\\python\\python38-32\\lib\\site-packages\\sklearn\\feature_selection\\_univariate_selection.py:114: UserWarning: Features [ 5 11 16 17] are constant.\n",
      "  warnings.warn(\"Features %s are constant.\" % constant_features_idx,\n",
      "c:\\users\\kajia\\appdata\\local\\programs\\python\\python38-32\\lib\\site-packages\\sklearn\\feature_selection\\_univariate_selection.py:116: RuntimeWarning: invalid value encountered in true_divide\n",
      "  f = msb / msw\n"
     ]
    },
    {
     "name": "stdout",
     "output_type": "stream",
     "text": [
      "r= 0.4282539682539683 \n",
      "p= 0.632640300140691 \n",
      "f= 0.5107591342209883\n"
     ]
    }
   ],
   "source": [
    "single_calc(2)"
   ]
  },
  {
   "cell_type": "code",
   "execution_count": 15,
   "metadata": {},
   "outputs": [
    {
     "name": "stderr",
     "output_type": "stream",
     "text": [
      "c:\\users\\kajia\\appdata\\local\\programs\\python\\python38-32\\lib\\site-packages\\sklearn\\feature_selection\\_univariate_selection.py:114: UserWarning: Features [ 5 11 16 17] are constant.\n",
      "  warnings.warn(\"Features %s are constant.\" % constant_features_idx,\n",
      "c:\\users\\kajia\\appdata\\local\\programs\\python\\python38-32\\lib\\site-packages\\sklearn\\feature_selection\\_univariate_selection.py:116: RuntimeWarning: invalid value encountered in true_divide\n",
      "  f = msb / msw\n"
     ]
    },
    {
     "name": "stdout",
     "output_type": "stream",
     "text": [
      "r= 0.28146031746031747 \n",
      "p= 0.5312375169769114 \n",
      "f= 0.36796524818770404\n"
     ]
    }
   ],
   "source": [
    "single_calc(3)"
   ]
  },
  {
   "cell_type": "code",
   "execution_count": 16,
   "metadata": {},
   "outputs": [
    {
     "name": "stderr",
     "output_type": "stream",
     "text": [
      "c:\\users\\kajia\\appdata\\local\\programs\\python\\python38-32\\lib\\site-packages\\sklearn\\feature_selection\\_univariate_selection.py:114: UserWarning: Features [ 5 11 16 17] are constant.\n",
      "  warnings.warn(\"Features %s are constant.\" % constant_features_idx,\n",
      "c:\\users\\kajia\\appdata\\local\\programs\\python\\python38-32\\lib\\site-packages\\sklearn\\feature_selection\\_univariate_selection.py:116: RuntimeWarning: invalid value encountered in true_divide\n",
      "  f = msb / msw\n"
     ]
    },
    {
     "name": "stdout",
     "output_type": "stream",
     "text": [
      "r= 0.33834920634920634 \n",
      "p= 0.5763781230846883 \n",
      "f= 0.4263939082774347\n"
     ]
    }
   ],
   "source": [
    "single_calc(4)"
   ]
  },
  {
   "cell_type": "markdown",
   "metadata": {},
   "source": [
    "By looking at the 3 plots, it can be seen that there are trade offs between precision and recall. However, it appears that using only 2 features is most effective. "
   ]
  },
  {
   "cell_type": "markdown",
   "metadata": {},
   "source": [
    "-------------------------------------------------------------------------"
   ]
  }
 ],
 "metadata": {
  "kernelspec": {
   "display_name": "Python 3",
   "language": "python",
   "name": "python3"
  },
  "language_info": {
   "codemirror_mode": {
    "name": "ipython",
    "version": 3
   },
   "file_extension": ".py",
   "mimetype": "text/x-python",
   "name": "python",
   "nbconvert_exporter": "python",
   "pygments_lexer": "ipython3",
   "version": "3.8.3"
  }
 },
 "nbformat": 4,
 "nbformat_minor": 4
}
