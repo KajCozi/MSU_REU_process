{
 "cells": [
  {
   "cell_type": "markdown",
   "metadata": {},
   "source": [
    "This program produces 3 plots: precision, recall, and fscore for the LOF algorithm. The X-axis represents the value k, which is the parameter for the number of nearest neighbors. The Y-axis represents the scores for the three metrics. "
   ]
  },
  {
   "cell_type": "code",
   "execution_count": 1,
   "metadata": {},
   "outputs": [],
   "source": [
    "from sklearn.datasets import fetch_kddcup99\n",
    "kdd99_data = fetch_kddcup99(subset='http')\n",
    "import numpy as np\n",
    "X = kdd99_data['data']\n",
    "y = kdd99_data['target']\n",
    "y[y == b'normal.'] = 1\n",
    "y[y != 1] = -1\n",
    "y = np.int64(y)"
   ]
  },
  {
   "cell_type": "code",
   "execution_count": 2,
   "metadata": {},
   "outputs": [],
   "source": [
    "from sklearn.neighbors import LocalOutlierFactor\n",
    "from sklearn.metrics import recall_score\n",
    "from sklearn.metrics import precision_score\n",
    "from sklearn.metrics import f1_score\n",
    "\n",
    "\n",
    "recall_scores = []\n",
    "precision_scores = []\n",
    "f1_scores = []\n",
    "\n",
    "def calculations(n):\n",
    "    #print('K value: ', n)\n",
    "    lof = LocalOutlierFactor(n_neighbors = n)\n",
    "    anomaly_predictions = lof.fit_predict(X)\n",
    "    \n",
    "  \n",
    "    anomaly_predictions = np.array(anomaly_predictions)\n",
    "    r = recall_score(y, anomaly_predictions, pos_label = -1)\n",
    "    p = precision_score(y, anomaly_predictions, pos_label = -1)\n",
    "    f = f1_score(y, anomaly_predictions, pos_label = -1)\n",
    "    \n",
    "   \n",
    "    recall_scores.append(r)\n",
    "    precision_scores.append(p)\n",
    "    f1_scores.append(f)"
   ]
  },
  {
   "cell_type": "code",
   "execution_count": null,
   "metadata": {},
   "outputs": [],
   "source": [
    "ilist = []\n",
    "i = 1\n",
    "while i<5:\n",
    "    calculations(i)\n",
    "    ilist.append(i)\n",
    "    i=i+1\n",
    "    \n",
    "i = 5\n",
    "while i <= 160:\n",
    "   calculations(i)\n",
    "   ilist.append(i)\n",
    "   i = i*2\n"
   ]
  },
  {
   "cell_type": "code",
   "execution_count": null,
   "metadata": {},
   "outputs": [],
   "source": [
    "#recall_score\n",
    "print('Values of K: ', ilist)"
   ]
  },
  {
   "cell_type": "code",
   "execution_count": null,
   "metadata": {},
   "outputs": [],
   "source": [
    "print('Recall Scores: ', recall_scores)\n",
    "print('\\n\\nPrecision Scores: ', precision_scores)\n",
    "print('\\n\\nF1 Scores: ', f1_scores)"
   ]
  },
  {
   "cell_type": "code",
   "execution_count": null,
   "metadata": {},
   "outputs": [],
   "source": [
    "import matplotlib.pyplot as plt\n",
    "plt.plot(ilist, recall_scores)\n",
    "plt.xlabel('Number of Nearest Neighbors')\n",
    "plt.ylabel('Recall Score')\n",
    "plt.title('LOF Recall Plot')\n",
    "plt.show()"
   ]
  },
  {
   "cell_type": "code",
   "execution_count": null,
   "metadata": {},
   "outputs": [],
   "source": [
    "import matplotlib.pyplot as plt\n",
    "plt.plot(ilist, precision_scores)\n",
    "plt.xlabel('Number of Nearest Neighbors')\n",
    "plt.ylabel('Precision Score')\n",
    "plt.title('LOF Precision Plot')\n",
    "plt.show()"
   ]
  },
  {
   "cell_type": "code",
   "execution_count": null,
   "metadata": {},
   "outputs": [],
   "source": [
    "import matplotlib.pyplot as plt\n",
    "plt.plot(ilist, f1_scores)\n",
    "plt.xlabel('Number of Nearest Neighbors')\n",
    "plt.ylabel('F1 Score')\n",
    "plt.title('LOF F1 Plot')\n",
    "plt.show()"
   ]
  },
  {
   "cell_type": "markdown",
   "metadata": {},
   "source": [
    "By looking at all three graphs, it can be seen that the optimal value of K is about 40. Although increasing this parameter would result in more of the anomalies being detected, there would be a consequence of higher false alarm rates. The harmonic mean of precision and recall also seems to level out and decrease after 40. "
   ]
  },
  {
   "cell_type": "code",
   "execution_count": null,
   "metadata": {},
   "outputs": [],
   "source": [
    "lof = LocalOutlierFactor(n_neighbors = 40)\n",
    "anomaly_predictions = lof.fit_predict(X)\n",
    "    \n",
    "  \n",
    "anomaly_predictions = np.array(anomaly_predictions)\n",
    "r = recall_score(y, anomaly_predictions, pos_label = -1)\n",
    "p = precision_score(y, anomaly_predictions, pos_label = -1)\n",
    "f = f1_score(y, anomaly_predictions, pos_label = -1)\n",
    "    \n",
    "print('Value of K: 40', '\\nRecall Score: ', r, '\\nPrecision Score: ', p, '\\nF1 Score: ', f )"
   ]
  },
  {
   "cell_type": "markdown",
   "metadata": {},
   "source": [
    "Even by optimizing the value of K, the calculations show that LOF is not an effective algorithm to use on this dataset (or at least the http subset) because only 4.8% of the anomalies were located. Additionally, only 12.4% of the anomalies were correctly identified. Thus, the accuracy is exceptionally low at about 7%. "
   ]
  }
 ],
 "metadata": {
  "kernelspec": {
   "display_name": "Python 3",
   "language": "python",
   "name": "python3"
  },
  "language_info": {
   "codemirror_mode": {
    "name": "ipython",
    "version": 3
   },
   "file_extension": ".py",
   "mimetype": "text/x-python",
   "name": "python",
   "nbconvert_exporter": "python",
   "pygments_lexer": "ipython3",
   "version": "3.8.3"
  }
 },
 "nbformat": 4,
 "nbformat_minor": 4
}
