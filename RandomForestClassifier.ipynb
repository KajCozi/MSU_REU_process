{
 "cells": [
  {
   "cell_type": "code",
   "execution_count": 1,
   "metadata": {},
   "outputs": [],
   "source": [
    "# Import dataset\n",
    "from sklearn.datasets import fetch_kddcup99\n",
    "kdd99_data = fetch_kddcup99() #can also do subset='http'\n",
    "import numpy as np\n",
    "X_og = kdd99_data['data']\n",
    "y_og = kdd99_data['target']"
   ]
  },
  {
   "cell_type": "code",
   "execution_count": 2,
   "metadata": {},
   "outputs": [
    {
     "name": "stdout",
     "output_type": "stream",
     "text": [
      "(494021, 38)\n",
      "(494021,)\n"
     ]
    }
   ],
   "source": [
    "# When running entire dataset - Remove categorical data\n",
    "X_num_sample = np.delete(X_og,[1,2,3],1)\n",
    "print(X_num_sample.shape)\n",
    "print(y_og.shape)"
   ]
  },
  {
   "cell_type": "code",
   "execution_count": 3,
   "metadata": {
    "scrolled": true
   },
   "outputs": [
    {
     "data": {
      "text/plain": [
       "array([[0, 181, 5450, 0, 0, 0, 0, 0, 1, 0, 0, 0, 0, 0, 0, 0, 0, 0, 0, 8,\n",
       "        8, 0.0, 0.0, 0.0, 0.0, 1.0, 0.0, 0.0, 9, 9, 1.0, 0.0, 0.11, 0.0,\n",
       "        0.0, 0.0, 0.0, 0.0]], dtype=object)"
      ]
     },
     "execution_count": 3,
     "metadata": {},
     "output_type": "execute_result"
    }
   ],
   "source": [
    "# Make sure all categorical columns were removed\n",
    "X_num_sample[0:1]"
   ]
  },
  {
   "cell_type": "code",
   "execution_count": 4,
   "metadata": {},
   "outputs": [
    {
     "name": "stdout",
     "output_type": "stream",
     "text": [
      "(59000, 38)\n",
      "(59000,)\n"
     ]
    }
   ],
   "source": [
    "# When running entire dataset - Take a sample from the dataset \n",
    "sample_indices = np.random.choice(range(len(y_og)), 59000)\n",
    "X_sample = X_num_sample[sample_indices,:]\n",
    "y = y_og[sample_indices]\n",
    "print(X_sample.shape)\n",
    "print(y.shape)"
   ]
  },
  {
   "cell_type": "code",
   "execution_count": null,
   "metadata": {},
   "outputs": [],
   "source": [
    "# http subset - Take a sample from the dataset\n",
    "sample_indices = np.random.choice(range(len(y_og)), 59000)\n",
    "X_sample = X_og[sample_indices,:]\n",
    "y = y_og[sample_indices]\n",
    "print(X_sample.shape)\n",
    "print(y.shape)"
   ]
  },
  {
   "cell_type": "code",
   "execution_count": 5,
   "metadata": {},
   "outputs": [],
   "source": [
    "# Assign each attack type to a numerical representation of an attack category\n",
    "attack_cats = [y]\n",
    "\n",
    "for i in range(X_sample.shape[0]):\n",
    "  \n",
    "    if(y[i]==b'normal.'):\n",
    "        y[i] = 0\n",
    "    \n",
    "# dos\n",
    "    if(y[i]==b'neptune.'or y[i]==b'smurf.'or y[i]==b'pod.' or y[i]==b'teardrop.' or y[i]==b'land.' or y[i]==b'back.'):\n",
    "        y[i] = 1\n",
    "\n",
    "# u2r\n",
    "    if(y[i]==b'buffer_overflow.' or y[i]==b'loadmodule.' or y[i]==b'perl.' or y[i]==b'rootkit.'):\n",
    "        y[i] = 2\n",
    "    \n",
    "# r2l \n",
    "    if(y[i]==b'guess_passwd.' or y[i]==b'ftp_write.' or y[i]==b'imap.' or y[i]==b'phf.' or y[i]==b'multihop.' or y[i]==b'warezmaster.' or y[i]==b'warezclient.' or y[i]==b'spy.'):\n",
    "        y[i] = 3\n",
    "\n",
    "# probe\n",
    "    if(y[i]==b'portsweep.' or y[i]==b'ipsweep.' or y[i]==b'nmap.' or y[i]==b'satan.'):\n",
    "        y[i] = 4"
   ]
  },
  {
   "cell_type": "code",
   "execution_count": 6,
   "metadata": {},
   "outputs": [
    {
     "data": {
      "text/plain": [
       "array([1, 1, 1, 0, 1, 1, 1, 1, 1, 1, 1, 1, 1, 1, 1, 1, 1, 1, 1, 0, 1, 1,\n",
       "       1, 1, 1, 1, 1, 1, 1, 1, 1, 0, 1, 1, 1, 1, 1, 1, 1, 1, 1, 0, 0, 1,\n",
       "       1, 1, 1, 1, 1, 1, 1, 1, 1, 1, 1, 1, 1, 1, 1, 0, 1, 1, 1, 1, 1, 1,\n",
       "       0, 1, 1, 1, 1, 1, 1, 1, 1, 0, 1, 0, 0, 1, 0, 1, 1, 1, 1, 1, 0, 0,\n",
       "       1, 1, 1, 1, 1, 0, 1, 1, 0, 0, 1, 1], dtype=int64)"
      ]
     },
     "execution_count": 6,
     "metadata": {},
     "output_type": "execute_result"
    }
   ],
   "source": [
    "# y is now an array of integers\n",
    "y = np.int64(y)\n",
    "y[0:100]"
   ]
  },
  {
   "cell_type": "code",
   "execution_count": 7,
   "metadata": {},
   "outputs": [],
   "source": [
    "# Split data into testing and training sets\n",
    "from sklearn.model_selection import train_test_split \n",
    "X_train, X_test, y_train, y_test = train_test_split(X_sample, y, test_size=0.33, random_state=42)"
   ]
  },
  {
   "cell_type": "code",
   "execution_count": 15,
   "metadata": {},
   "outputs": [],
   "source": [
    "# Use RF classifier to label attack types as 'normal, dos, u2r, r2l, or probe'\n",
    "from sklearn.ensemble import RandomForestClassifier\n",
    "clf = RandomForestClassifier(max_depth = 500, random_state = 42)\n",
    "clf.fit(X_train,y_train)\n",
    "y_pred = clf.predict(X_test)"
   ]
  },
  {
   "cell_type": "code",
   "execution_count": 16,
   "metadata": {},
   "outputs": [
    {
     "name": "stdout",
     "output_type": "stream",
     "text": [
      "r= 0.9989727786337956 \n",
      "p= 0.9989727786337956 \n",
      "f= 0.9989727786337956\n"
     ]
    }
   ],
   "source": [
    "from sklearn.metrics import recall_score\n",
    "from sklearn.metrics import precision_score\n",
    "from sklearn.metrics import f1_score\n",
    "\n",
    "r = recall_score(y_test, y_pred, average = 'micro')\n",
    "p = precision_score(y_test, y_pred, average = 'micro')\n",
    "f = f1_score(y_test, y_pred, average = 'micro')\n",
    "print('r=', r, '\\np=', p, '\\nf=', f)\n"
   ]
  },
  {
   "cell_type": "code",
   "execution_count": 17,
   "metadata": {},
   "outputs": [
    {
     "name": "stdout",
     "output_type": "stream",
     "text": [
      "              precision    recall  f1-score   support\n",
      "\n",
      "           0       1.00      1.00      1.00      3935\n",
      "           1       1.00      1.00      1.00     15303\n",
      "           2       0.00      0.00      0.00         2\n",
      "           3       0.97      0.82      0.89        44\n",
      "           4       0.99      0.96      0.98       186\n",
      "\n",
      "    accuracy                           1.00     19470\n",
      "   macro avg       0.79      0.75      0.77     19470\n",
      "weighted avg       1.00      1.00      1.00     19470\n",
      "\n",
      "\n",
      " [[ 3933     0     0     1     1]\n",
      " [    0 15303     0     0     0]\n",
      " [    2     0     0     0     0]\n",
      " [    8     0     0    36     0]\n",
      " [    7     1     0     0   178]]\n",
      "\n",
      "Accuracy =  0.9989727786337956\n"
     ]
    },
    {
     "name": "stderr",
     "output_type": "stream",
     "text": [
      "c:\\users\\kajia\\appdata\\local\\programs\\python\\python38-32\\lib\\site-packages\\sklearn\\metrics\\_classification.py:1221: UndefinedMetricWarning: Precision and F-score are ill-defined and being set to 0.0 in labels with no predicted samples. Use `zero_division` parameter to control this behavior.\n",
      "  _warn_prf(average, modifier, msg_start, len(result))\n"
     ]
    }
   ],
   "source": [
    "from sklearn.metrics import classification_report, confusion_matrix, accuracy_score\n",
    "\n",
    "print(classification_report(y_test, y_pred))\n",
    "print('\\n', confusion_matrix(y_test, y_pred))\n",
    "print('\\nAccuracy = ', accuracy_score(y_test,y_pred))"
   ]
  }
 ],
 "metadata": {
  "kernelspec": {
   "display_name": "Python 3",
   "language": "python",
   "name": "python3"
  },
  "language_info": {
   "codemirror_mode": {
    "name": "ipython",
    "version": 3
   },
   "file_extension": ".py",
   "mimetype": "text/x-python",
   "name": "python",
   "nbconvert_exporter": "python",
   "pygments_lexer": "ipython3",
   "version": "3.8.3"
  }
 },
 "nbformat": 4,
 "nbformat_minor": 4
}
