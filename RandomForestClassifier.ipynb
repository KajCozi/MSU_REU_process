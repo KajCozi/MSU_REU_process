{
 "cells": [
  {
   "cell_type": "code",
   "execution_count": 6,
   "metadata": {},
   "outputs": [],
   "source": [
    "from sklearn.datasets import fetch_kddcup99\n",
    "kdd99_data = fetch_kddcup99()\n",
    "import numpy as np\n",
    "X = kdd99_data['data']\n",
    "y_yeup= kdd99_data['target']"
   ]
  },
  {
   "cell_type": "code",
   "execution_count": null,
   "metadata": {},
   "outputs": [],
   "source": [
    "from sklearn.model_selection import train_test_split \n",
    "X_train, X_test, y_train, y_test = train_test_split(X, y, test_size=0.33, random_state=42)"
   ]
  },
  {
   "cell_type": "code",
   "execution_count": 7,
   "metadata": {},
   "outputs": [
    {
     "name": "stdout",
     "output_type": "stream",
     "text": [
      "(2000, 3)\n",
      "(2000,)\n"
     ]
    }
   ],
   "source": [
    "sample_indices = np.random.choice(range(len(y_yeup)), 2000)\n",
    "X_sample = X[sample_indices,:]\n",
    "y=y_yeup[sample_indices]\n",
    "print(X_sample.shape)\n",
    "print(y.shape)"
   ]
  },
  {
   "cell_type": "code",
   "execution_count": 12,
   "metadata": {},
   "outputs": [
    {
     "name": "stdout",
     "output_type": "stream",
     "text": [
      "[b'normal.' b'normal.' b'normal.' b'normal.' b'normal.' b'normal.'\n",
      " b'normal.' b'normal.' b'normal.' b'normal.' b'normal.' b'normal.'\n",
      " b'normal.' b'normal.' b'normal.' b'normal.' b'normal.' b'normal.'\n",
      " b'normal.' b'normal.' b'normal.' b'normal.' b'normal.' b'normal.'\n",
      " b'normal.' b'normal.' b'normal.' b'normal.' b'normal.' b'normal.'\n",
      " b'normal.' b'normal.' b'normal.' b'normal.' b'normal.' b'normal.'\n",
      " b'normal.' b'normal.' b'normal.' b'normal.' b'normal.' b'normal.'\n",
      " b'normal.' b'normal.' b'normal.' b'normal.' b'normal.' b'normal.'\n",
      " b'normal.' b'normal.' b'normal.' b'normal.' b'normal.' b'normal.'\n",
      " b'normal.' b'normal.' b'normal.' b'normal.' b'normal.' b'normal.'\n",
      " b'normal.' b'normal.' b'normal.' b'normal.' b'normal.' b'normal.'\n",
      " b'normal.' b'normal.' b'normal.' b'normal.' b'normal.' b'normal.'\n",
      " b'normal.' b'normal.' b'normal.' b'normal.' b'normal.' b'normal.'\n",
      " b'back.' b'normal.' b'normal.' b'normal.' b'normal.' b'normal.'\n",
      " b'normal.' b'normal.' b'normal.' b'normal.' b'normal.' b'normal.'\n",
      " b'normal.' b'normal.' b'normal.' b'normal.' b'normal.' b'normal.'\n",
      " b'normal.' b'normal.' b'normal.' b'normal.']\n"
     ]
    }
   ],
   "source": [
    "print(y[0:100])"
   ]
  },
  {
   "cell_type": "code",
   "execution_count": 21,
   "metadata": {},
   "outputs": [],
   "source": [
    "for i in X_sample:\n",
    "    attack_cat =0\n",
    "    \n",
    "    if(any(y)==b'normal.'):\n",
    "        attack_cat = 5\n",
    "        \n",
    "    if([y==b'neptune.']or [y==b'smurf.']or [y==b'pod.'] or [y==b'teardrop.'] or [y==b'land.'] or [y==b'back.'] or [y==b'apache2.'] or [y==b'udpstorm.'] or [y==b'process-table.'] or [y==b'mail-bomb.']):\n",
    "        attack_cat = 1\n",
    "        \n",
    "    if([y==b'buffer-overflow.']or [y==b'load-module.']or [y==b'perl.'] or [y==b'rootkit.'] or [y==b'spy.'] or [y==b'xterm.'] or [y==b'ps.'] or [y==b'http-tunnel.'] or [y==b'sql-attack.'] or [y==b'worm.'] or [y==b'snmp-guess.']):\n",
    "        attack_cat = 2\n",
    "       \n",
    "    if([y==b'guess-password.']or [y==b'ftp-write.']or [y==b'imap.'] or [y==b'phf.'] or [y==b'multihop.'] or [y==b'warezmaster.'] or [y==b'warezclient.'] or [y==b'snmpgetattack.'] or [y==b'named.'] or [y==b'xlock.'] or [y==b'xsnoop.'] or [y==b'send-mail.']):\n",
    "        attack_cat = 3\n",
    "        \n",
    "    if([y==b'port-sweep.']or [y==b'ip-sweep.']or [y==b'nmap.'] or [y==b'satan.'] or [y==b'saint.'] or [y==b'mscan.']):\n",
    "        attack_cat = 6\n",
    "        \n",
    "  \n",
    "        \n"
   ]
  },
  {
   "cell_type": "code",
   "execution_count": 22,
   "metadata": {},
   "outputs": [],
   "source": [
    "for i in X:\n",
    "    if(attack_cat==1):\n",
    "        print('DoS')\n",
    "    if(attack_cat==2):\n",
    "        print('U2R')\n",
    "    if(attack_cat==3):\n",
    "        print(' R2L')\n",
    "    if(attack_cat==4):\n",
    "        print('probe')\n",
    "    if(attack_cat ==5):\n",
    "        print('normal')"
   ]
  },
  {
   "cell_type": "code",
   "execution_count": null,
   "metadata": {},
   "outputs": [],
   "source": [
    "from sklearn.ensemble import RandomForestClassifier\n",
    "from sklearn.datasets import make_classification\n",
    "clf = RandomForestClassifier(max_depth=2, random_state=0)\n",
    "clf.fit(X, y)\n",
    "clf\n",
    "    "
   ]
  }
 ],
 "metadata": {
  "kernelspec": {
   "display_name": "Python 3",
   "language": "python",
   "name": "python3"
  },
  "language_info": {
   "codemirror_mode": {
    "name": "ipython",
    "version": 3
   },
   "file_extension": ".py",
   "mimetype": "text/x-python",
   "name": "python",
   "nbconvert_exporter": "python",
   "pygments_lexer": "ipython3",
   "version": "3.8.3"
  }
 },
 "nbformat": 4,
 "nbformat_minor": 4
}
